{
 "cells": [
  {
   "cell_type": "code",
   "execution_count": 1,
   "metadata": {},
   "outputs": [
    {
     "name": "stdout",
     "output_type": "stream",
     "text": [
      "\u001b[33mStatus: \u001b[0m \u001b[97mInitialising nodes\u001b[0m\n",
      "\u001b[33mStatus: \u001b[0m \u001b[97mInitialising ChatOpenAI\u001b[0m\n",
      "\u001b[32mStatus: \u001b[0m \u001b[97mChatOpenAI initialised\u001b[0m\n"
     ]
    }
   ],
   "source": [
    "from src.agents.data_agent.agent import *"
   ]
  },
  {
   "cell_type": "code",
   "execution_count": 2,
   "metadata": {},
   "outputs": [],
   "source": [
    "query = \"avg session length per user\""
   ]
  },
  {
   "cell_type": "code",
   "execution_count": 3,
   "metadata": {},
   "outputs": [],
   "source": [
    "#data, query_code = get_data_from_db(query)"
   ]
  },
  {
   "cell_type": "code",
   "execution_count": 4,
   "metadata": {},
   "outputs": [],
   "source": [
    "data = fetch_metric_data('1')"
   ]
  },
  {
   "cell_type": "code",
   "execution_count": 5,
   "metadata": {},
   "outputs": [
    {
     "data": {
      "text/html": [
       "<div>\n",
       "<style scoped>\n",
       "    .dataframe tbody tr th:only-of-type {\n",
       "        vertical-align: middle;\n",
       "    }\n",
       "\n",
       "    .dataframe tbody tr th {\n",
       "        vertical-align: top;\n",
       "    }\n",
       "\n",
       "    .dataframe thead th {\n",
       "        text-align: right;\n",
       "    }\n",
       "</style>\n",
       "<table border=\"1\" class=\"dataframe\">\n",
       "  <thead>\n",
       "    <tr style=\"text-align: right;\">\n",
       "      <th></th>\n",
       "      <th>Day</th>\n",
       "      <th>Minutes</th>\n",
       "    </tr>\n",
       "  </thead>\n",
       "  <tbody>\n",
       "    <tr>\n",
       "      <th>0</th>\n",
       "      <td>2025-01-07</td>\n",
       "      <td>226.38834951456310679822</td>\n",
       "    </tr>\n",
       "    <tr>\n",
       "      <th>1</th>\n",
       "      <td>2025-01-08</td>\n",
       "      <td>141.59155405405405405428</td>\n",
       "    </tr>\n",
       "    <tr>\n",
       "      <th>2</th>\n",
       "      <td>2025-01-09</td>\n",
       "      <td>12.44790076335877862417</td>\n",
       "    </tr>\n",
       "    <tr>\n",
       "      <th>3</th>\n",
       "      <td>2025-01-10</td>\n",
       "      <td>11.15574572127139364254</td>\n",
       "    </tr>\n",
       "    <tr>\n",
       "      <th>4</th>\n",
       "      <td>2025-01-11</td>\n",
       "      <td>10.73907779495105615636</td>\n",
       "    </tr>\n",
       "    <tr>\n",
       "      <th>5</th>\n",
       "      <td>2025-01-12</td>\n",
       "      <td>15.18227785959744722788</td>\n",
       "    </tr>\n",
       "    <tr>\n",
       "      <th>6</th>\n",
       "      <td>2025-01-13</td>\n",
       "      <td>29.76347941567065073108</td>\n",
       "    </tr>\n",
       "    <tr>\n",
       "      <th>7</th>\n",
       "      <td>2025-01-14</td>\n",
       "      <td>12.94475655430711610768</td>\n",
       "    </tr>\n",
       "    <tr>\n",
       "      <th>8</th>\n",
       "      <td>2025-01-15</td>\n",
       "      <td>9.70523049645390070922</td>\n",
       "    </tr>\n",
       "  </tbody>\n",
       "</table>\n",
       "</div>"
      ],
      "text/plain": [
       "         Day                   Minutes\n",
       "0 2025-01-07  226.38834951456310679822\n",
       "1 2025-01-08  141.59155405405405405428\n",
       "2 2025-01-09   12.44790076335877862417\n",
       "3 2025-01-10   11.15574572127139364254\n",
       "4 2025-01-11   10.73907779495105615636\n",
       "5 2025-01-12   15.18227785959744722788\n",
       "6 2025-01-13   29.76347941567065073108\n",
       "7 2025-01-14   12.94475655430711610768\n",
       "8 2025-01-15    9.70523049645390070922"
      ]
     },
     "execution_count": 5,
     "metadata": {},
     "output_type": "execute_result"
    }
   ],
   "source": [
    "data"
   ]
  },
  {
   "cell_type": "code",
   "execution_count": 6,
   "metadata": {},
   "outputs": [],
   "source": [
    "import matplotlib.pyplot as plt\n",
    "import io\n",
    "import base64"
   ]
  },
  {
   "cell_type": "code",
   "execution_count": 13,
   "metadata": {},
   "outputs": [
    {
     "data": {
      "text/plain": [
       "\"\\n# Example usage:\\nx = [1, 2, 3, 4, 5]\\ny = [10, 20, 25, 30, 35]\\nlabels = ['A', 'B', 'C', 'D', 'E']\\n\\n# Get base64 for different plots\\nline_plot_base64 = get_base64_plot('line', x, y)\\nbar_plot_base64 = get_base64_plot('bar', x, y)\\npie_plot_base64 = get_base64_plot('pie', x, labels=labels)\\n\\n# The Base64 string can now be used in HTML or other purposes\\nprint(line_plot_base64)\""
      ]
     },
     "execution_count": 13,
     "metadata": {},
     "output_type": "execute_result"
    }
   ],
   "source": [
    "def get_base64_plot(plot_type, x, y=None, labels=None, categories=None):\n",
    "    # Create the plot based on the specified type\n",
    "    plt.figure()\n",
    "    if plot_type == 'line':\n",
    "        plt.plot(x, y)\n",
    "        plt.xlabel(labels[0])\n",
    "        plt.ylabel(labels[1])\n",
    "    elif plot_type == 'bar':\n",
    "        plt.bar(x, y)\n",
    "        plt.xlabel(labels[0])\n",
    "        plt.ylabel(labels[1])\n",
    "    elif plot_type == 'pie':\n",
    "        if labels:\n",
    "            plt.pie(x, labels=categories, autopct='%1.1f%%')\n",
    "        else:\n",
    "            plt.pie(x, autopct='%1.1f%%')\n",
    "    else:\n",
    "        raise ValueError(\"Unsupported plot type. Use 'line', 'bar', or 'pie'.\")\n",
    "\n",
    "    # Save the plot to a buffer\n",
    "    buf = io.BytesIO()\n",
    "    plt.savefig(buf, format='png', bbox_inches='tight')\n",
    "    buf.seek(0)\n",
    "\n",
    "    # Encode the buffer content to Base64\n",
    "    base64_string = base64.b64encode(buf.read()).decode('utf-8')\n",
    "    buf.close()\n",
    "\n",
    "    plt.show()\n",
    "\n",
    "    # Close the plot to free memory\n",
    "    plt.close()\n",
    "\n",
    "    return base64_string\n",
    "\"\"\"\n",
    "# Example usage:\n",
    "x = [1, 2, 3, 4, 5]\n",
    "y = [10, 20, 25, 30, 35]\n",
    "labels = ['A', 'B', 'C', 'D', 'E']\n",
    "\n",
    "# Get base64 for different plots\n",
    "line_plot_base64 = get_base64_plot('line', x, y)\n",
    "bar_plot_base64 = get_base64_plot('bar', x, y)\n",
    "pie_plot_base64 = get_base64_plot('pie', x, labels=labels)\n",
    "\n",
    "# The Base64 string can now be used in HTML or other purposes\n",
    "print(line_plot_base64)\"\"\"\n"
   ]
  },
  {
   "cell_type": "code",
   "execution_count": 8,
   "metadata": {},
   "outputs": [],
   "source": [
    "x = data[data.columns[0]]\n",
    "y = data[data.columns[1]]"
   ]
  },
  {
   "cell_type": "code",
   "execution_count": 16,
   "metadata": {},
   "outputs": [
    {
     "data": {
      "image/png": "[encoded data removed]",
      "text/plain": [
       "<Figure size 640x480 with 1 Axes>"
      ]
     },
     "metadata": {},
     "output_type": "display_data"
    }
   ],
   "source": [
    "line_plot_base64 = get_base64_plot('line', x, y, labels=['date', 'time spent (mins)'])"
   ]
  },
  {
   "cell_type": "code",
   "execution_count": 11,
   "metadata": {},
   "outputs": [
    {
     "data": {
      "text/plain": [
       "'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'"
      ]
     },
     "execution_count": 11,
     "metadata": {},
     "output_type": "execute_result"
    }
   ],
   "source": [
    "line_plot_base64"
   ]
  },
  {
   "cell_type": "code",
   "execution_count": null,
   "metadata": {},
   "outputs": [],
   "source": []
  }
 ],
 "metadata": {
  "kernelspec": {
   "display_name": ".venv",
   "language": "python",
   "name": "python3"
  },
  "language_info": {
   "codemirror_mode": {
    "name": "ipython",
    "version": 3
   },
   "file_extension": ".py",
   "mimetype": "text/x-python",
   "name": "python",
   "nbconvert_exporter": "python",
   "pygments_lexer": "ipython3",
   "version": "3.12.3"
  }
 },
 "nbformat": 4,
 "nbformat_minor": 2
}
