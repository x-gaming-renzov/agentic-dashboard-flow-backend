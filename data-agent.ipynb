{
 "cells": [
  {
   "cell_type": "code",
   "execution_count": 1,
   "metadata": {},
   "outputs": [
    {
     "name": "stdout",
     "output_type": "stream",
     "text": [
      "\u001b[33mStatus: \u001b[0m \u001b[97mInitialising nodes\u001b[0m\n",
      "\u001b[33mStatus: \u001b[0m \u001b[97mInitialising ChatOpenAI\u001b[0m\n",
      "\u001b[32mStatus: \u001b[0m \u001b[97mChatOpenAI initialised\u001b[0m\n"
     ]
    }
   ],
   "source": [
    "from src.agents.data_agent.agent import *"
   ]
  },
  {
   "cell_type": "code",
   "execution_count": 2,
   "metadata": {},
   "outputs": [],
   "source": [
    "query = \"\"\"{'name': 'PvP Participation Rate',\n",
    "  'description': 'The ratio of PvP events to total events in a session, which indicates how dedicated a player is to PvP activities. To calculate: Divide the count of PvP events by the total events in a session, provided as a percentage.',\n",
    "  'chartType': 'bar',\n",
    "  'chartOptions': {'title': 'PvP Participation Rate per Session',\n",
    "   'xAxis': 'Day',\n",
    "   'yAxis': 'PvP Participation Rate (%)'},\n",
    "  'how_to_calculate': \"For each session, get count of PvP-related events and divide by total events in the session. \\\\n\\\\nWITH event_counts AS (\\\\n    SELECT session_id,\\\\n           SUM(CASE WHEN event IN ('player-kill', 'player-damage', 'player-death') THEN 1 ELSE 0 END) AS pvp_event_count,\\\\n           COUNT(*) AS total_event_count\\\\n    FROM game_data\\\\n    GROUP BY session_id\\\\n)\\\\n\\\\nSELECT DATE(TO_TIMESTAMP(min_time)::date) AS day,\\\\n       AVG(pvp_event_count::decimal / total_event_count) * 100 AS pvp_participation_rate\\\\nFROM event_counts\\\\nGROUP BY day\\\\nORDER BY day;\"},\n",
    "\"\"\""
   ]
  },
  {
   "cell_type": "code",
   "execution_count": 3,
   "metadata": {},
   "outputs": [
    {
     "name": "stdout",
     "output_type": "stream",
     "text": [
      "\u001b[32mStatus: \u001b[0m \u001b[97mInstructions generated\u001b[0m\n",
      "\u001b[32mStatus: \u001b[0m \u001b[97mQuery generated\u001b[0m\n",
      "\u001b[31mStatus: \u001b[0m \u001b[97mError while executing query\u001b[0m\n",
      "\u001b[97mError: \u001b[0m \u001b[31minvalid input syntax for type date: \"UTC\"\n",
      "LINE 1: SELECT to_timestamp(time) AT TIME ZONE 'UTC'::date AS date,\n",
      "                                               ^\n",
      "\u001b[0m\n",
      "\u001b[31mStatus: \u001b[0m \u001b[97mRetrying\u001b[0m\n",
      "\u001b[32mStatus: \u001b[0m \u001b[97mInstructions generated\u001b[0m\n",
      "\u001b[32mStatus: \u001b[0m \u001b[97mQuery generated\u001b[0m\n",
      "\u001b[32mStatus: \u001b[0m \u001b[97mQuery executed\u001b[0m\n",
      "\u001b[97mData: \u001b[0m \u001b[33m[(datetime.date(2025, 1, 8), 70), (datetime.date(2025, 1, 9), 93), (datetime.date(2025, 1, 10), 116), (datetime.date(2025, 1, 11), 190), (datetime.date(2025, 1, 12), 163), (datetime.date(2025, 1, 13), 92), (datetime.date(2025, 1, 14), 106), (datetime.date(2025, 1, 15), 91), (datetime.date(2025, 1, 16), 47)]\u001b[0m\n",
      "\u001b[32mStatus: \u001b[0m \u001b[97mQA test completed\u001b[0m\n",
      "\u001b[97mQA Status: \u001b[0m \u001b[33mTrue\u001b[0m\n",
      "\u001b[97mRemarks: \u001b[0m \u001b[33mNone\u001b[0m\n",
      "\u001b[32mStatus: \u001b[0m \u001b[97mQA passed\u001b[0m\n"
     ]
    }
   ],
   "source": [
    "data, query_code = get_data_from_db(\"Fetch the Daily Active Users (DAU) data, which measures the number of unique players that joined during a specific day. Provide the count of distinct users each day in a suitable format.\")"
   ]
  },
  {
   "cell_type": "code",
   "execution_count": 4,
   "metadata": {},
   "outputs": [],
   "source": [
    "#data = fetch_metric_data('1')"
   ]
  },
  {
   "cell_type": "code",
   "execution_count": 5,
   "metadata": {},
   "outputs": [
    {
     "data": {
      "text/plain": [
       "[(datetime.date(2025, 1, 8), 70),\n",
       " (datetime.date(2025, 1, 9), 93),\n",
       " (datetime.date(2025, 1, 10), 116),\n",
       " (datetime.date(2025, 1, 11), 190),\n",
       " (datetime.date(2025, 1, 12), 163),\n",
       " (datetime.date(2025, 1, 13), 92),\n",
       " (datetime.date(2025, 1, 14), 106),\n",
       " (datetime.date(2025, 1, 15), 91),\n",
       " (datetime.date(2025, 1, 16), 47)]"
      ]
     },
     "execution_count": 5,
     "metadata": {},
     "output_type": "execute_result"
    }
   ],
   "source": [
    "data"
   ]
  },
  {
   "cell_type": "code",
   "execution_count": null,
   "metadata": {},
   "outputs": [],
   "source": []
  }
 ],
 "metadata": {
  "kernelspec": {
   "display_name": ".venv",
   "language": "python",
   "name": "python3"
  },
  "language_info": {
   "codemirror_mode": {
    "name": "ipython",
    "version": 3
   },
   "file_extension": ".py",
   "mimetype": "text/x-python",
   "name": "python",
   "nbconvert_exporter": "python",
   "pygments_lexer": "ipython3",
   "version": "3.12.3"
  }
 },
 "nbformat": 4,
 "nbformat_minor": 2
}
