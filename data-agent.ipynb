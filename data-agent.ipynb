{
 "cells": [
  {
   "cell_type": "code",
   "execution_count": 1,
   "metadata": {},
   "outputs": [
    {
     "name": "stdout",
     "output_type": "stream",
     "text": [
      "\u001b[33mStatus: \u001b[0m \u001b[97mInitialising nodes\u001b[0m\n",
      "\u001b[33mStatus: \u001b[0m \u001b[97mInitialising ChatOpenAI\u001b[0m\n",
      "\u001b[32mStatus: \u001b[0m \u001b[97mChatOpenAI initialised\u001b[0m\n"
     ]
    }
   ],
   "source": [
    "from src.agents.data_agent.agent import *"
   ]
  },
  {
   "cell_type": "code",
   "execution_count": 12,
   "metadata": {},
   "outputs": [],
   "source": [
    "query = \"\"\"Return list of uuids of player's with : Players with more than 10 kills. ONLY RETURN UUIDS IN SINGLE COLUMN\"\"\""
   ]
  },
  {
   "cell_type": "code",
   "execution_count": 13,
   "metadata": {},
   "outputs": [
    {
     "name": "stdout",
     "output_type": "stream",
     "text": [
      "\u001b[32mStatus: \u001b[0m \u001b[97mInstructions generated\u001b[0m\n",
      "\u001b[32mStatus: \u001b[0m \u001b[97mQuery generated\u001b[0m\n",
      "\u001b[32mStatus: \u001b[0m \u001b[97mQuery executed\u001b[0m\n",
      "\u001b[97mData: \u001b[0m \u001b[33m[('00000000-0000-0000-0009-01f178f269de',), ('00000000-0000-0000-0009-01f2507e0aed',), ('00000000-0000-0000-0009-01f4b491784d',), ('00000000-0000-0000-0009-01f56fdc2f26',), ('00000000-0000-0000-0009-01f94cf4c707',), ('00000000-0000-0000-0009-01fae5285c7b',), ('00000000-0000-0000-0009-01fb7f064491',), ('00000000-0000-0000-0009-01fcb62e2c15',), ('00000000-0000-0000-0009-01fd048d56ca',), ('00000000-0000-0000-0009-01fd607d6fc9',), ('00000000-0000-0000-0009-01fd83494bf3',), ('00000000-0000-0000-0009-01fe1068df67',), ('00000000-0000-0000-0009-01ffffea64e6',), ('068afc87-e8f2-3eb4-a577-da37faa593f9',), ('0c306540-a3e1-3ed4-ac99-c3abd6e826d4',), ('1185d533-b119-3b67-bac1-8019f59b304a',), ('1a7e080e-19c0-318c-b139-5609fad2a5b9',), ('263467ae-c516-3e37-b472-a85fd255c382',), ('2b720b9f-aa47-3f25-bc66-675f16a37550',), ('2ca5ba0d-f03d-3d96-b988-56100124da17',), ('303664b8-7f40-3a40-a7d6-99bbdb768db8',), ('3599ea0b-9f74-37d9-8e97-a0236c15828a',), ('3752805b-47ea-35c7-92a4-f510e3cf3115',), ('40e816f5-1008-3eb0-b444-b6eb42b1e6fd',), ('425cc6bf-93dc-30f3-9a7b-57f6b619ce10',), ('4af0659c-cab4-39b5-a083-743328150de3',), ('4e668e70-3d9d-3874-8aec-b02a0bb9e87e',), ('54410847-428e-3375-9d20-281a00e7830e',), ('5457d5ea-2032-3e81-aa80-1bb2b167450e',), ('57467c7f-4097-3e95-af55-5592c8f491c3',), ('620e7e44-6503-3a28-b5bb-ea8b829d30d8',), ('6390fb8a-ab50-380b-a018-ca9b91a975b3',), ('6a11a61e-e594-3ca8-ad44-cf12017d15e7',), ('6fdb4b4c-bcd9-34fd-8a22-8f8763beff44',), ('725a3b29-5513-3a57-b019-0a7647312cdc',), ('75065c2e-64ec-3596-a270-6b5ec80d8046',), ('775fbd11-b724-3d0c-9d29-41762f353ef7',), ('83633f81-011d-3287-9f4e-adcd3bc47fd1',), ('84f78400-ddb0-3c03-952e-4e64b4dd5e67',), ('8c6bd2b3-66cd-3f3c-813b-45d5ea1a0a74',), ('8fbfa4f9-10de-30b9-9a3d-262795f508fd',), ('a5ea1c8a-22d5-32c4-94f4-0ee2e564ea5c',), ('a6d259f4-021a-33ee-a3e3-09a482f5306b',), ('aca78b3e-d51f-3844-942b-6dc1c1bd5c6e',), ('b7c483d9-a546-30bc-9cb3-ac8087b5ba7c',), ('bdfeacbf-f0ac-3601-a3a0-316960232437',), ('d01bed8d-00e8-343c-af5c-2bdc678b2043',), ('d461f630-1892-30f1-8f1a-ed3c81f123e5',), ('d48c9e36-11a0-3e1f-9a13-53f5635e1726',), ('d4f94d0a-624e-3a76-966f-ea5c8eda4ac5',), ('d6ee4c7d-aea9-3b51-9001-48db9ebcff01',), ('d773d9d5-e87c-32bf-9510-6abc0742d870',), ('d88467f4-0a8b-38d8-8bf2-0c886fb00908',), ('d9951724-1d9c-39c5-b437-097bb8213fab',), ('dbab7145-d397-3fcc-a733-aceaea295fd6',), ('e6e4b24a-a077-3b1b-b317-535bb690c736',), ('e734b6aa-c1dc-349a-9920-adcfae480e6f',), ('ea865b24-33ae-344a-b10c-e7eee45626e0',), ('eeda29fc-f79f-3d3f-a392-6db08c6bd21c',), ('f1173c76-e82e-3648-889f-fba748c76804',), ('f3abbfcb-0bc4-3b2d-acc3-cab817298a25',), ('f44c8f19-08c9-3363-becc-8ee1f8c641a5',), ('f64e92c0-da60-3952-a5d2-4d584dcccd67',), ('f741c1cc-4f8a-3678-b159-a81044ee2596',), ('fbd5ffc1-8264-3a3b-89ca-b554f73cd0e8',), ('fe0b4653-59f6-3780-a235-4903868b003c',)]\u001b[0m\n",
      "\u001b[32mStatus: \u001b[0m \u001b[97mQA test completed\u001b[0m\n",
      "\u001b[97mQA Status: \u001b[0m \u001b[33mTrue\u001b[0m\n",
      "\u001b[97mRemarks: \u001b[0m \u001b[33mNone\u001b[0m\n",
      "\u001b[32mStatus: \u001b[0m \u001b[97mQA passed\u001b[0m\n"
     ]
    }
   ],
   "source": [
    "#data, query_code = get_data_from_db(\"Fetch the Daily Active Users (DAU) data, which measures the number of unique players that joined during a specific day. Provide the count of distinct users each day in a suitable format.\")\n",
    "data, query_code = get_data_from_db(query)"
   ]
  },
  {
   "cell_type": "code",
   "execution_count": 14,
   "metadata": {},
   "outputs": [],
   "source": [
    "#data = fetch_metric_data('1')"
   ]
  },
  {
   "cell_type": "code",
   "execution_count": 15,
   "metadata": {},
   "outputs": [
    {
     "data": {
      "text/plain": [
       "[('00000000-0000-0000-0009-01f178f269de',),\n",
       " ('00000000-0000-0000-0009-01f2507e0aed',),\n",
       " ('00000000-0000-0000-0009-01f4b491784d',),\n",
       " ('00000000-0000-0000-0009-01f56fdc2f26',),\n",
       " ('00000000-0000-0000-0009-01f94cf4c707',),\n",
       " ('00000000-0000-0000-0009-01fae5285c7b',),\n",
       " ('00000000-0000-0000-0009-01fb7f064491',),\n",
       " ('00000000-0000-0000-0009-01fcb62e2c15',),\n",
       " ('00000000-0000-0000-0009-01fd048d56ca',),\n",
       " ('00000000-0000-0000-0009-01fd607d6fc9',),\n",
       " ('00000000-0000-0000-0009-01fd83494bf3',),\n",
       " ('00000000-0000-0000-0009-01fe1068df67',),\n",
       " ('00000000-0000-0000-0009-01ffffea64e6',),\n",
       " ('068afc87-e8f2-3eb4-a577-da37faa593f9',),\n",
       " ('0c306540-a3e1-3ed4-ac99-c3abd6e826d4',),\n",
       " ('1185d533-b119-3b67-bac1-8019f59b304a',),\n",
       " ('1a7e080e-19c0-318c-b139-5609fad2a5b9',),\n",
       " ('263467ae-c516-3e37-b472-a85fd255c382',),\n",
       " ('2b720b9f-aa47-3f25-bc66-675f16a37550',),\n",
       " ('2ca5ba0d-f03d-3d96-b988-56100124da17',),\n",
       " ('303664b8-7f40-3a40-a7d6-99bbdb768db8',),\n",
       " ('3599ea0b-9f74-37d9-8e97-a0236c15828a',),\n",
       " ('3752805b-47ea-35c7-92a4-f510e3cf3115',),\n",
       " ('40e816f5-1008-3eb0-b444-b6eb42b1e6fd',),\n",
       " ('425cc6bf-93dc-30f3-9a7b-57f6b619ce10',),\n",
       " ('4af0659c-cab4-39b5-a083-743328150de3',),\n",
       " ('4e668e70-3d9d-3874-8aec-b02a0bb9e87e',),\n",
       " ('54410847-428e-3375-9d20-281a00e7830e',),\n",
       " ('5457d5ea-2032-3e81-aa80-1bb2b167450e',),\n",
       " ('57467c7f-4097-3e95-af55-5592c8f491c3',),\n",
       " ('620e7e44-6503-3a28-b5bb-ea8b829d30d8',),\n",
       " ('6390fb8a-ab50-380b-a018-ca9b91a975b3',),\n",
       " ('6a11a61e-e594-3ca8-ad44-cf12017d15e7',),\n",
       " ('6fdb4b4c-bcd9-34fd-8a22-8f8763beff44',),\n",
       " ('725a3b29-5513-3a57-b019-0a7647312cdc',),\n",
       " ('75065c2e-64ec-3596-a270-6b5ec80d8046',),\n",
       " ('775fbd11-b724-3d0c-9d29-41762f353ef7',),\n",
       " ('83633f81-011d-3287-9f4e-adcd3bc47fd1',),\n",
       " ('84f78400-ddb0-3c03-952e-4e64b4dd5e67',),\n",
       " ('8c6bd2b3-66cd-3f3c-813b-45d5ea1a0a74',),\n",
       " ('8fbfa4f9-10de-30b9-9a3d-262795f508fd',),\n",
       " ('a5ea1c8a-22d5-32c4-94f4-0ee2e564ea5c',),\n",
       " ('a6d259f4-021a-33ee-a3e3-09a482f5306b',),\n",
       " ('aca78b3e-d51f-3844-942b-6dc1c1bd5c6e',),\n",
       " ('b7c483d9-a546-30bc-9cb3-ac8087b5ba7c',),\n",
       " ('bdfeacbf-f0ac-3601-a3a0-316960232437',),\n",
       " ('d01bed8d-00e8-343c-af5c-2bdc678b2043',),\n",
       " ('d461f630-1892-30f1-8f1a-ed3c81f123e5',),\n",
       " ('d48c9e36-11a0-3e1f-9a13-53f5635e1726',),\n",
       " ('d4f94d0a-624e-3a76-966f-ea5c8eda4ac5',),\n",
       " ('d6ee4c7d-aea9-3b51-9001-48db9ebcff01',),\n",
       " ('d773d9d5-e87c-32bf-9510-6abc0742d870',),\n",
       " ('d88467f4-0a8b-38d8-8bf2-0c886fb00908',),\n",
       " ('d9951724-1d9c-39c5-b437-097bb8213fab',),\n",
       " ('dbab7145-d397-3fcc-a733-aceaea295fd6',),\n",
       " ('e6e4b24a-a077-3b1b-b317-535bb690c736',),\n",
       " ('e734b6aa-c1dc-349a-9920-adcfae480e6f',),\n",
       " ('ea865b24-33ae-344a-b10c-e7eee45626e0',),\n",
       " ('eeda29fc-f79f-3d3f-a392-6db08c6bd21c',),\n",
       " ('f1173c76-e82e-3648-889f-fba748c76804',),\n",
       " ('f3abbfcb-0bc4-3b2d-acc3-cab817298a25',),\n",
       " ('f44c8f19-08c9-3363-becc-8ee1f8c641a5',),\n",
       " ('f64e92c0-da60-3952-a5d2-4d584dcccd67',),\n",
       " ('f741c1cc-4f8a-3678-b159-a81044ee2596',),\n",
       " ('fbd5ffc1-8264-3a3b-89ca-b554f73cd0e8',),\n",
       " ('fe0b4653-59f6-3780-a235-4903868b003c',)]"
      ]
     },
     "execution_count": 15,
     "metadata": {},
     "output_type": "execute_result"
    }
   ],
   "source": [
    "data"
   ]
  },
  {
   "cell_type": "code",
   "execution_count": 6,
   "metadata": {},
   "outputs": [],
   "source": [
    "from src.agents.data_agent.agent import *"
   ]
  },
  {
   "cell_type": "code",
   "execution_count": 7,
   "metadata": {},
   "outputs": [],
   "source": [
    "metric_df = fetch_metric_data('23')"
   ]
  },
  {
   "cell_type": "code",
   "execution_count": 14,
   "metadata": {},
   "outputs": [],
   "source": [
    "s = [str(dt) for dt in metric_df[metric_df.columns[0]].tolist()]"
   ]
  },
  {
   "cell_type": "code",
   "execution_count": 15,
   "metadata": {},
   "outputs": [
    {
     "data": {
      "text/plain": [
       "['2025-01-10 00:00:00',\n",
       " '2025-01-11 00:00:00',\n",
       " '2025-01-12 00:00:00',\n",
       " '2025-01-13 00:00:00',\n",
       " '2025-01-14 00:00:00',\n",
       " '2025-01-15 00:00:00',\n",
       " '2025-01-16 00:00:00',\n",
       " '2025-01-17 00:00:00',\n",
       " '2025-01-18 00:00:00']"
      ]
     },
     "execution_count": 15,
     "metadata": {},
     "output_type": "execute_result"
    }
   ],
   "source": [
    "s"
   ]
  },
  {
   "cell_type": "code",
   "execution_count": 16,
   "metadata": {},
   "outputs": [
    {
     "data": {
      "text/plain": [
       "[Timestamp('2025-01-10 00:00:00'),\n",
       " Timestamp('2025-01-11 00:00:00'),\n",
       " Timestamp('2025-01-12 00:00:00'),\n",
       " Timestamp('2025-01-13 00:00:00'),\n",
       " Timestamp('2025-01-14 00:00:00'),\n",
       " Timestamp('2025-01-15 00:00:00'),\n",
       " Timestamp('2025-01-16 00:00:00'),\n",
       " Timestamp('2025-01-17 00:00:00'),\n",
       " Timestamp('2025-01-18 00:00:00')]"
      ]
     },
     "execution_count": 16,
     "metadata": {},
     "output_type": "execute_result"
    }
   ],
   "source": [
    "metric_df[metric_df.columns[0]].tolist()"
   ]
  },
  {
   "cell_type": "code",
   "execution_count": 7,
   "metadata": {},
   "outputs": [
    {
     "name": "stdout",
     "output_type": "stream",
     "text": [
      "\u001b[32mStatus: \u001b[0m \u001b[97mInstructions generated\u001b[0m\n",
      "\u001b[32mStatus: \u001b[0m \u001b[97mQuery generated\u001b[0m\n",
      "\u001b[32mStatus: \u001b[0m \u001b[97mQuery executed\u001b[0m\n",
      "\u001b[97mData: \u001b[0m \u001b[33m[('00000000-0000-0000-0009-01f0fd96bea7',), ('00000000-0000-0000-0009-01f14630cdf7',), ('00000000-0000-0000-0009-01f19b55616c',), ('00000000-0000-0000-0009-01f2312b232c',), ('00000000-0000-0000-0009-01f4a7e9e49d',), ('00000000-0000-0000-0009-01f4bd7cfc1c',), ('00000000-0000-0000-0009-01f72025489d',), ('00000000-0000-0000-0009-01f788ab6ad8',), ('00000000-0000-0000-0009-01f7a68808fe',), ('00000000-0000-0000-0009-01f7f242a3e7',), ('00000000-0000-0000-0009-01f98ec34e10',), ('00000000-0000-0000-0009-01fad70db70d',), ('00000000-0000-0000-0009-01fb472ff120',), ('00000000-0000-0000-0009-01fc4b0bfd2d',), ('00000000-0000-0000-0009-01fd3d55f2cf',), ('00000000-0000-0000-0009-01fddeaf4132',), ('00000000-0000-0000-0009-01ffc7456527',), ('01efdc4c-5722-34fc-a735-452b694f8803',), ('01f3c93a-a4b3-394f-af39-501fb6411172',), ('0311bc16-89ad-33dc-b8a7-9512fdd8d76d',), ('03b68cb0-b905-3d0d-a66a-72bbb8e8cb85',), ('03bdbe15-3ce2-3b0e-94c7-bfda1ceb846f',), ('0689dc89-783d-3f5c-ab6c-e1897275b081',), ('0737abc0-52f1-36f0-8de2-34f90e5228ed',), ('0c25bab9-b297-3d33-883a-d4b84ca80c61',), ('0f9dea9e-d46a-3db1-86ac-2c3924a02b37',), ('102ffb9b-6bfb-35ad-96e9-4795e00b5cec',), ('16f93a2c-ff6c-36f0-94f4-3a424016f0c2',), ('187ac48f-d88a-3ac4-84b6-f110a29574bc',), ('1ee63135-fdf0-30b1-bdad-bf3f217ea6bb',), ('1f0790fe-6582-3353-86eb-8d24ca63f497',), ('28103db5-b28e-363e-80ac-9d90828c7265',), ('2e9aabfb-a602-3aec-8fdf-9d01d7c00880',), ('32ea8223-98f5-3cee-88f5-e5b7b0f1ffac',), ('34a59ede-a6eb-3e5c-afe3-771731816899',), ('34f74dc1-3d19-3d02-88e7-bb596dac2c88',), ('3b57848f-001a-3610-bf08-b0fa7cfea533',), ('3bb0e7da-ac66-3374-bdda-6c913d91fa0d',), ('3e02bf59-714c-3450-9c25-4f880bac1217',), ('41796597-59d4-35d7-a5a7-dd9d6dcef92d',), ('423200de-aa02-3f22-83d4-bb3ed44650ad',), ('4571ee18-4e2d-3100-98f0-3607ec8c8b70',), ('469405ff-d3ac-3d99-ba6d-9bf7105b2a1e',), ('4952f228-27e1-346e-af80-0b83dca16f10',), ('4b503fb2-7541-3c62-9cfc-545ef48f4cc7',), ('4bcd42e5-1535-355c-ae7c-e2c6e18b6242',), ('500b64b7-6918-33d9-9d99-3d3f1ae0e1ef',), ('507893be-56bc-3eef-9bf0-173eca299755',), ('560b359b-3170-369d-912c-7b585a41622c',), ('5a45b425-610a-3e94-93a1-19e5f293272d',), ('5bbe9e11-1ebd-3dee-99ec-b4ec0540e875',), ('5dcd0cfb-3f0c-355f-990b-fba0f5913bb8',), ('5eafba5d-1c09-3794-a839-35a1e12cd972',), ('5f945b30-3045-3389-8982-6c287af1d828',), ('60760990-230e-385f-b8ed-6d55d04c0d0b',), ('61cc5815-d987-3268-85b1-a248a989fd1a',), ('6d9267f4-7f40-316c-9884-a1a70d6750ba',), ('6f6308ad-2726-33d2-b48b-002118ec96e8',), ('7575bc68-16e5-36df-ac68-9f616215a570',), ('76b094a9-f4bc-3a6b-956b-ce01b55404b0',), ('78a72533-1d42-3840-9609-580a5991dffe',), ('7a0a4909-20cc-32eb-ad09-c4f9a8f3113f',), ('7b6c0460-be64-3caf-8728-0447a7920b3e',), ('7b882597-8ad6-3cad-95f1-4414a4d57367',), ('7be797eb-4c42-3997-a63c-fe1bca81d2ea',), ('7c468997-f05e-31ce-981f-8f0869d0268c',), ('7e36a104-01af-3571-8130-8cbd654bc9b2',), ('7ecfc78d-ae0d-32fd-8b8d-d5885be85aa2',), ('825d3277-7e04-3bc0-9f56-082147fe6051',), ('826e0e6d-0c73-3f3f-b3af-3d3ac4f34ebc',), ('839c71f9-daed-3fb2-a22a-3f465ea02078',), ('83f18dbd-6862-3d12-9c33-075a793aff11',), ('8b297832-6b04-3559-8c02-90924ce5d739',), ('8b58d490-d6ec-35a1-b636-f17d41343146',), ('97161441-9c83-3bc4-9f47-4c79b03dbd74',), ('97348897-746b-3bfa-980c-ad9f84dde4f5',), ('9b144d8b-e36b-39d3-b464-2ad391362a04',), ('a43e594a-323d-3c86-a42f-105fc0f334aa',), ('a495a7a0-7738-3d14-8b0b-8aa6d0c24a25',), ('a5f5b44b-2ab3-319d-be68-525b1a9ce824',), ('a7b57cbb-ecee-3a20-a540-062d05ce8b7b',), ('a8859c76-0d18-3336-87ce-fdbfc64a4934',), ('af094d8f-cee4-358a-bb64-fac4a78485e8',), ('b28cd84e-0d2a-39ee-afc3-db6bddb9243d',), ('b3abfa79-b73a-35c3-87a6-9249331118bd',), ('ba6e0ccd-1945-3074-a5bc-04e8873cf861',), ('ba786691-db26-344d-9434-c913cf1fb6b6',), ('bce812f0-e852-31e7-a27b-8c15960dd7f5',), ('c00eb32d-501b-3783-a179-81ae7dc4ef20',), ('c89b1706-6207-3ea4-92cc-41ab57a2a60f',), ('c92fc92f-e870-30ec-a7a5-5013a35ef42e',), ('cbea9cd4-159d-3498-a540-6974d5adc91e',), ('cc77eaec-a337-34b4-852d-f4b9376adfa0',), ('cceeeff4-a764-3fa6-b51c-c263598f12d5',), ('cd77ca59-c451-3c81-ac3f-72b54f6192d3',), ('d32bac5e-e43e-3862-9bc0-232f71e3661a',), ('d3e68d53-b900-39e2-a36a-329508cdba5a',), ('d605b179-80b3-35bf-a1a9-ad422fae08f9',), ('d832cf87-f41e-3c01-a430-83e5c41b70df',), ('d91c1996-5567-35a8-81ed-894416f86a94',), ('d953454a-5499-3579-acd8-ed32b41e339e',), ('da700ead-c0be-365c-80ce-4fa7253c6e8d',), ('db00f164-e802-30c9-b058-3b5210a0e261',), ('dbd8b172-14fd-33a5-a123-f6ef8573c8a4',), ('dcd02862-c1aa-3c9d-86f3-ed9ce340c025',), ('ddc0bb30-f829-39a5-99c0-69abc9607e36',), ('e25fae05-f93e-3e97-b374-2148788461a0',), ('e86278dd-c464-307f-9d53-758fb085ba5a',), ('ed2e55f8-957b-3c04-8c67-58a179c62f1e',), ('ee835ef7-c3c2-3caf-aad8-61b9d6b9893a',), ('f390fbf3-ff93-3fc2-9528-479b4a68ebc5',), ('f3f70008-60ee-3ee6-bf81-8ac9a92da3fa',), ('f62f51f1-1a79-3b0b-a104-cfcbc4ae31c8',), ('f75afe41-b709-30fc-b0c7-46e946988493',), ('fa040267-695d-3046-bb9f-4856e0bbd75c',), ('fc53e152-9530-3da5-aa4a-6a61f8925bea',), ('fdb7e26a-0e3f-3073-a44c-4ea848c64fd8',), ('ff7edb49-b5c8-3e9b-911f-bf44efb01d8e',)]\u001b[0m\n",
      "\u001b[32mStatus: \u001b[0m \u001b[97mQA test completed\u001b[0m\n",
      "\u001b[97mQA Status: \u001b[0m \u001b[33mTrue\u001b[0m\n",
      "\u001b[97mRemarks: \u001b[0m \u001b[33mNone\u001b[0m\n",
      "\u001b[32mStatus: \u001b[0m \u001b[97mQA passed\u001b[0m\n"
     ]
    }
   ],
   "source": [
    "data1, query_code = get_data_from_db(\"Return list of uuids of player's with : Players with less than 10 kills\")"
   ]
  },
  {
   "cell_type": "code",
   "execution_count": 9,
   "metadata": {},
   "outputs": [
    {
     "data": {
      "text/plain": [
       "118"
      ]
     },
     "execution_count": 9,
     "metadata": {},
     "output_type": "execute_result"
    }
   ],
   "source": [
    "len(data1)"
   ]
  },
  {
   "cell_type": "code",
   "execution_count": 16,
   "metadata": {},
   "outputs": [
    {
     "data": {
      "text/plain": [
       "66"
      ]
     },
     "execution_count": 16,
     "metadata": {},
     "output_type": "execute_result"
    }
   ],
   "source": [
    "len(data)"
   ]
  },
  {
   "cell_type": "code",
   "execution_count": 11,
   "metadata": {},
   "outputs": [],
   "source": [
    "# check if any of the elements in data1 are in data\n",
    "for i in data1:\n",
    "    if i in data:\n",
    "        print(i)"
   ]
  },
  {
   "cell_type": "code",
   "execution_count": null,
   "metadata": {},
   "outputs": [],
   "source": []
  }
 ],
 "metadata": {
  "kernelspec": {
   "display_name": ".venv",
   "language": "python",
   "name": "python3"
  },
  "language_info": {
   "codemirror_mode": {
    "name": "ipython",
    "version": 3
   },
   "file_extension": ".py",
   "mimetype": "text/x-python",
   "name": "python",
   "nbconvert_exporter": "python",
   "pygments_lexer": "ipython3",
   "version": "3.12.8"
  }
 },
 "nbformat": 4,
 "nbformat_minor": 2
}
