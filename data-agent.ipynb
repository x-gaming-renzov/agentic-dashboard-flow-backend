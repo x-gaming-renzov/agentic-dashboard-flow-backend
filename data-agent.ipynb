{
 "cells": [
  {
   "cell_type": "code",
   "execution_count": 1,
   "metadata": {},
   "outputs": [
    {
     "name": "stdout",
     "output_type": "stream",
     "text": [
      "\u001b[33mStatus: \u001b[0m \u001b[97mInitialising nodes\u001b[0m\n",
      "\u001b[33mStatus: \u001b[0m \u001b[97mInitialising ChatOpenAI\u001b[0m\n",
      "\u001b[32mStatus: \u001b[0m \u001b[97mChatOpenAI initialised\u001b[0m\n"
     ]
    }
   ],
   "source": [
    "from src.agents.data_agent.agent import *"
   ]
  },
  {
   "cell_type": "code",
   "execution_count": 6,
   "metadata": {},
   "outputs": [],
   "source": [
    "query = \"\"\"Return list of uuids of player's with total player-kill count greater than 100. Return single column with uuids\"\"\""
   ]
  },
  {
   "cell_type": "code",
   "execution_count": 7,
   "metadata": {},
   "outputs": [
    {
     "name": "stdout",
     "output_type": "stream",
     "text": [
      "\u001b[32mStatus: \u001b[0m \u001b[97mInstructions generated\u001b[0m\n",
      "\u001b[32mStatus: \u001b[0m \u001b[97mQuery generated\u001b[0m\n",
      "\u001b[32mStatus: \u001b[0m \u001b[97mQuery executed\u001b[0m\n",
      "\u001b[97mData: \u001b[0m \u001b[33m[('00000000-0000-0000-0009-01f2507e0aed',), ('00000000-0000-0000-0009-01f4b491784d',), ('00000000-0000-0000-0009-01f56fdc2f26',), ('00000000-0000-0000-0009-01f94cf4c707',), ('00000000-0000-0000-0009-01fcb62e2c15',), ('00000000-0000-0000-0009-01fd048d56ca',), ('00000000-0000-0000-0009-01fd83494bf3',), ('1185d533-b119-3b67-bac1-8019f59b304a',), ('263467ae-c516-3e37-b472-a85fd255c382',), ('303664b8-7f40-3a40-a7d6-99bbdb768db8',), ('3752805b-47ea-35c7-92a4-f510e3cf3115',), ('5457d5ea-2032-3e81-aa80-1bb2b167450e',), ('620e7e44-6503-3a28-b5bb-ea8b829d30d8',), ('6a11a61e-e594-3ca8-ad44-cf12017d15e7',), ('725a3b29-5513-3a57-b019-0a7647312cdc',), ('83633f81-011d-3287-9f4e-adcd3bc47fd1',), ('8fbfa4f9-10de-30b9-9a3d-262795f508fd',), ('a5ea1c8a-22d5-32c4-94f4-0ee2e564ea5c',), ('a6d259f4-021a-33ee-a3e3-09a482f5306b',), ('b7c483d9-a546-30bc-9cb3-ac8087b5ba7c',), ('d461f630-1892-30f1-8f1a-ed3c81f123e5',), ('d48c9e36-11a0-3e1f-9a13-53f5635e1726',), ('d4f94d0a-624e-3a76-966f-ea5c8eda4ac5',), ('d773d9d5-e87c-32bf-9510-6abc0742d870',), ('dbab7145-d397-3fcc-a733-aceaea295fd6',), ('e6e4b24a-a077-3b1b-b317-535bb690c736',), ('f1173c76-e82e-3648-889f-fba748c76804',), ('f64e92c0-da60-3952-a5d2-4d584dcccd67',), ('f741c1cc-4f8a-3678-b159-a81044ee2596',), ('fbd5ffc1-8264-3a3b-89ca-b554f73cd0e8',)]\u001b[0m\n",
      "\u001b[32mStatus: \u001b[0m \u001b[97mQA test completed\u001b[0m\n",
      "\u001b[97mQA Status: \u001b[0m \u001b[33mTrue\u001b[0m\n",
      "\u001b[97mRemarks: \u001b[0m \u001b[33mNone\u001b[0m\n",
      "\u001b[32mStatus: \u001b[0m \u001b[97mQA passed\u001b[0m\n"
     ]
    }
   ],
   "source": [
    "#data, query_code = get_data_from_db(\"Fetch the Daily Active Users (DAU) data, which measures the number of unique players that joined during a specific day. Provide the count of distinct users each day in a suitable format.\")\n",
    "data, query_code = get_data_from_db(query)"
   ]
  },
  {
   "cell_type": "code",
   "execution_count": 8,
   "metadata": {},
   "outputs": [],
   "source": [
    "#data = fetch_metric_data('1')"
   ]
  },
  {
   "cell_type": "code",
   "execution_count": 9,
   "metadata": {},
   "outputs": [
    {
     "data": {
      "text/plain": [
       "[('00000000-0000-0000-0009-01f2507e0aed',),\n",
       " ('00000000-0000-0000-0009-01f4b491784d',),\n",
       " ('00000000-0000-0000-0009-01f56fdc2f26',),\n",
       " ('00000000-0000-0000-0009-01f94cf4c707',),\n",
       " ('00000000-0000-0000-0009-01fcb62e2c15',),\n",
       " ('00000000-0000-0000-0009-01fd048d56ca',),\n",
       " ('00000000-0000-0000-0009-01fd83494bf3',),\n",
       " ('1185d533-b119-3b67-bac1-8019f59b304a',),\n",
       " ('263467ae-c516-3e37-b472-a85fd255c382',),\n",
       " ('303664b8-7f40-3a40-a7d6-99bbdb768db8',),\n",
       " ('3752805b-47ea-35c7-92a4-f510e3cf3115',),\n",
       " ('5457d5ea-2032-3e81-aa80-1bb2b167450e',),\n",
       " ('620e7e44-6503-3a28-b5bb-ea8b829d30d8',),\n",
       " ('6a11a61e-e594-3ca8-ad44-cf12017d15e7',),\n",
       " ('725a3b29-5513-3a57-b019-0a7647312cdc',),\n",
       " ('83633f81-011d-3287-9f4e-adcd3bc47fd1',),\n",
       " ('8fbfa4f9-10de-30b9-9a3d-262795f508fd',),\n",
       " ('a5ea1c8a-22d5-32c4-94f4-0ee2e564ea5c',),\n",
       " ('a6d259f4-021a-33ee-a3e3-09a482f5306b',),\n",
       " ('b7c483d9-a546-30bc-9cb3-ac8087b5ba7c',),\n",
       " ('d461f630-1892-30f1-8f1a-ed3c81f123e5',),\n",
       " ('d48c9e36-11a0-3e1f-9a13-53f5635e1726',),\n",
       " ('d4f94d0a-624e-3a76-966f-ea5c8eda4ac5',),\n",
       " ('d773d9d5-e87c-32bf-9510-6abc0742d870',),\n",
       " ('dbab7145-d397-3fcc-a733-aceaea295fd6',),\n",
       " ('e6e4b24a-a077-3b1b-b317-535bb690c736',),\n",
       " ('f1173c76-e82e-3648-889f-fba748c76804',),\n",
       " ('f64e92c0-da60-3952-a5d2-4d584dcccd67',),\n",
       " ('f741c1cc-4f8a-3678-b159-a81044ee2596',),\n",
       " ('fbd5ffc1-8264-3a3b-89ca-b554f73cd0e8',)]"
      ]
     },
     "execution_count": 9,
     "metadata": {},
     "output_type": "execute_result"
    }
   ],
   "source": [
    "data"
   ]
  },
  {
   "cell_type": "code",
   "execution_count": 6,
   "metadata": {},
   "outputs": [],
   "source": [
    "from src.agents.data_agent.agent import *"
   ]
  },
  {
   "cell_type": "code",
   "execution_count": 7,
   "metadata": {},
   "outputs": [],
   "source": [
    "metric_df = fetch_metric_data('23')"
   ]
  },
  {
   "cell_type": "code",
   "execution_count": 14,
   "metadata": {},
   "outputs": [],
   "source": [
    "s = [str(dt) for dt in metric_df[metric_df.columns[0]].tolist()]"
   ]
  },
  {
   "cell_type": "code",
   "execution_count": 15,
   "metadata": {},
   "outputs": [
    {
     "data": {
      "text/plain": [
       "['2025-01-10 00:00:00',\n",
       " '2025-01-11 00:00:00',\n",
       " '2025-01-12 00:00:00',\n",
       " '2025-01-13 00:00:00',\n",
       " '2025-01-14 00:00:00',\n",
       " '2025-01-15 00:00:00',\n",
       " '2025-01-16 00:00:00',\n",
       " '2025-01-17 00:00:00',\n",
       " '2025-01-18 00:00:00']"
      ]
     },
     "execution_count": 15,
     "metadata": {},
     "output_type": "execute_result"
    }
   ],
   "source": [
    "s"
   ]
  },
  {
   "cell_type": "code",
   "execution_count": 16,
   "metadata": {},
   "outputs": [
    {
     "data": {
      "text/plain": [
       "[Timestamp('2025-01-10 00:00:00'),\n",
       " Timestamp('2025-01-11 00:00:00'),\n",
       " Timestamp('2025-01-12 00:00:00'),\n",
       " Timestamp('2025-01-13 00:00:00'),\n",
       " Timestamp('2025-01-14 00:00:00'),\n",
       " Timestamp('2025-01-15 00:00:00'),\n",
       " Timestamp('2025-01-16 00:00:00'),\n",
       " Timestamp('2025-01-17 00:00:00'),\n",
       " Timestamp('2025-01-18 00:00:00')]"
      ]
     },
     "execution_count": 16,
     "metadata": {},
     "output_type": "execute_result"
    }
   ],
   "source": [
    "metric_df[metric_df.columns[0]].tolist()"
   ]
  },
  {
   "cell_type": "code",
   "execution_count": null,
   "metadata": {},
   "outputs": [],
   "source": []
  }
 ],
 "metadata": {
  "kernelspec": {
   "display_name": ".venv",
   "language": "python",
   "name": "python3"
  },
  "language_info": {
   "codemirror_mode": {
    "name": "ipython",
    "version": 3
   },
   "file_extension": ".py",
   "mimetype": "text/x-python",
   "name": "python",
   "nbconvert_exporter": "python",
   "pygments_lexer": "ipython3",
   "version": "3.12.8"
  }
 },
 "nbformat": 4,
 "nbformat_minor": 2
}
