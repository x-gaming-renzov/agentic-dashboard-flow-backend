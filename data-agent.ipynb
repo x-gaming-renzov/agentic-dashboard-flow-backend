{
 "cells": [
  {
   "cell_type": "code",
   "execution_count": 2,
   "metadata": {},
   "outputs": [
    {
     "name": "stdout",
     "output_type": "stream",
     "text": [
      "\u001b[33mStatus: \u001b[0m \u001b[97mInitialising nodes\u001b[0m\n",
      "\u001b[33mStatus: \u001b[0m \u001b[97mInitialising ChatOpenAI\u001b[0m\n",
      "\u001b[32mStatus: \u001b[0m \u001b[97mChatOpenAI initialised\u001b[0m\n"
     ]
    }
   ],
   "source": [
    "from src.agents.data_agent.agent import *"
   ]
  },
  {
   "cell_type": "code",
   "execution_count": 2,
   "metadata": {},
   "outputs": [],
   "source": [
    "query = \"\"\"{\n",
    "  \"name\": \"Number of Blocks Placed per Day\",\n",
    "  \"description\": \"This metric tracks the total number of blocks placed in a given day within a specific time frame. The calculation can be done using an SQL query that sums the number of blocks added on a daily basis. Parameters include the timestamps indicating when blocks were placed. The formula for calculation can be expressed as: Total Blocks = SUM(blocks) WHERE date(date_column) = target_date.\",\n",
    "  \"chartType\": \"line\",\n",
    "  \"chartOptions\": {\n",
    "    \"title\": \"Daily Block Placement\",\n",
    "    \"xAxis\": \"Date\",\n",
    "    \"yAxis\": \"Number of Blocks Placed\"\n",
    "  },\n",
    "  \"how_to_calculate\": \"To calculate the number of blocks placed per day, use an SQL query that aggregates the total blocks from a table with block placement records. The query would initially filter records based on a date range and then count the total number of blocks grouped by each day.\"\n",
    "}\"\"\""
   ]
  },
  {
   "cell_type": "code",
   "execution_count": 3,
   "metadata": {},
   "outputs": [
    {
     "name": "stdout",
     "output_type": "stream",
     "text": [
      "\u001b[32mStatus: \u001b[0m \u001b[97mInstructions generated\u001b[0m\n",
      "\u001b[32mStatus: \u001b[0m \u001b[97mQuery generated\u001b[0m\n",
      "\u001b[32mStatus: \u001b[0m \u001b[97mQuery executed\u001b[0m\n",
      "\u001b[97mData: \u001b[0m \u001b[33m[(datetime.date(2025, 1, 14), 4500), (datetime.date(2025, 1, 15), 7640), (datetime.date(2025, 1, 16), 726)]\u001b[0m\n",
      "\u001b[32mStatus: \u001b[0m \u001b[97mQA test completed\u001b[0m\n",
      "\u001b[97mQA Status: \u001b[0m \u001b[33mTrue\u001b[0m\n",
      "\u001b[97mRemarks: \u001b[0m \u001b[33mNone\u001b[0m\n",
      "\u001b[32mStatus: \u001b[0m \u001b[97mQA passed\u001b[0m\n"
     ]
    }
   ],
   "source": [
    "#data, query_code = get_data_from_db(\"Fetch the Daily Active Users (DAU) data, which measures the number of unique players that joined during a specific day. Provide the count of distinct users each day in a suitable format.\")\n",
    "data, query_code = get_data_from_db(query)"
   ]
  },
  {
   "cell_type": "code",
   "execution_count": 4,
   "metadata": {},
   "outputs": [],
   "source": [
    "#data = fetch_metric_data('1')"
   ]
  },
  {
   "cell_type": "code",
   "execution_count": 5,
   "metadata": {},
   "outputs": [
    {
     "data": {
      "text/plain": [
       "[(datetime.date(2025, 1, 14), 4500),\n",
       " (datetime.date(2025, 1, 15), 7640),\n",
       " (datetime.date(2025, 1, 16), 726)]"
      ]
     },
     "execution_count": 5,
     "metadata": {},
     "output_type": "execute_result"
    }
   ],
   "source": [
    "data"
   ]
  },
  {
   "cell_type": "code",
   "execution_count": 6,
   "metadata": {},
   "outputs": [],
   "source": [
    "from src.agents.data_agent.agent import *"
   ]
  },
  {
   "cell_type": "code",
   "execution_count": 7,
   "metadata": {},
   "outputs": [],
   "source": [
    "metric_df = fetch_metric_data('23')"
   ]
  },
  {
   "cell_type": "code",
   "execution_count": 14,
   "metadata": {},
   "outputs": [],
   "source": [
    "s = [str(dt) for dt in metric_df[metric_df.columns[0]].tolist()]"
   ]
  },
  {
   "cell_type": "code",
   "execution_count": 15,
   "metadata": {},
   "outputs": [
    {
     "data": {
      "text/plain": [
       "['2025-01-10 00:00:00',\n",
       " '2025-01-11 00:00:00',\n",
       " '2025-01-12 00:00:00',\n",
       " '2025-01-13 00:00:00',\n",
       " '2025-01-14 00:00:00',\n",
       " '2025-01-15 00:00:00',\n",
       " '2025-01-16 00:00:00',\n",
       " '2025-01-17 00:00:00',\n",
       " '2025-01-18 00:00:00']"
      ]
     },
     "execution_count": 15,
     "metadata": {},
     "output_type": "execute_result"
    }
   ],
   "source": [
    "s"
   ]
  },
  {
   "cell_type": "code",
   "execution_count": 16,
   "metadata": {},
   "outputs": [
    {
     "data": {
      "text/plain": [
       "[Timestamp('2025-01-10 00:00:00'),\n",
       " Timestamp('2025-01-11 00:00:00'),\n",
       " Timestamp('2025-01-12 00:00:00'),\n",
       " Timestamp('2025-01-13 00:00:00'),\n",
       " Timestamp('2025-01-14 00:00:00'),\n",
       " Timestamp('2025-01-15 00:00:00'),\n",
       " Timestamp('2025-01-16 00:00:00'),\n",
       " Timestamp('2025-01-17 00:00:00'),\n",
       " Timestamp('2025-01-18 00:00:00')]"
      ]
     },
     "execution_count": 16,
     "metadata": {},
     "output_type": "execute_result"
    }
   ],
   "source": [
    "metric_df[metric_df.columns[0]].tolist()"
   ]
  },
  {
   "cell_type": "code",
   "execution_count": null,
   "metadata": {},
   "outputs": [],
   "source": []
  }
 ],
 "metadata": {
  "kernelspec": {
   "display_name": ".venv",
   "language": "python",
   "name": "python3"
  },
  "language_info": {
   "codemirror_mode": {
    "name": "ipython",
    "version": 3
   },
   "file_extension": ".py",
   "mimetype": "text/x-python",
   "name": "python",
   "nbconvert_exporter": "python",
   "pygments_lexer": "ipython3",
   "version": "3.12.3"
  }
 },
 "nbformat": 4,
 "nbformat_minor": 2
}
