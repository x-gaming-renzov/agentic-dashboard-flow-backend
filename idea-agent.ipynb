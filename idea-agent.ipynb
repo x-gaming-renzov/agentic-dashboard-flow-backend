{
 "cells": [
  {
   "cell_type": "code",
   "execution_count": 1,
   "metadata": {},
   "outputs": [
    {
     "name": "stdout",
     "output_type": "stream",
     "text": [
      "\u001b[33mStatus: \u001b[0m \u001b[97mInitialising nodes\u001b[0m\n",
      "\u001b[33mStatus: \u001b[0m \u001b[97mInitialising ChatOpenAI\u001b[0m\n",
      "\u001b[32mStatus: \u001b[0m \u001b[97mChatOpenAI initialised\u001b[0m\n",
      "\u001b[33mStatus: \u001b[0m \u001b[97mInitialising nodes\u001b[0m\n",
      "\u001b[33mStatus: \u001b[0m \u001b[97mInitialising ChatOpenAI\u001b[0m\n",
      "\u001b[32mStatus: \u001b[0m \u001b[97mChatOpenAI initialised\u001b[0m\n"
     ]
    }
   ],
   "source": [
    "from src.agents.idea_agent.agent import *\n",
    "from src.agents.idea_agent.states.states import *"
   ]
  },
  {
   "cell_type": "code",
   "execution_count": 2,
   "metadata": {},
   "outputs": [],
   "source": [
    "state = IdeaState(segments=[\"1\", \"2\"], \n",
    "                  metrics=['1', '2', '3', '4', '5', '6', '7'], \n",
    "                  human_remark=\"What are in-app purchase ideas opportunities for this segments?\",\n",
    "                  num_ideas=3)"
   ]
  },
  {
   "cell_type": "code",
   "execution_count": 3,
   "metadata": {},
   "outputs": [
    {
     "name": "stdout",
     "output_type": "stream",
     "text": [
      "\u001b[32mStatus: \u001b[0m \u001b[97mPlot generated\u001b[0m\n",
      "\u001b[32mStatus: \u001b[0m \u001b[97mPlot generated\u001b[0m\n",
      "\u001b[32mStatus: \u001b[0m \u001b[97mPlot generated\u001b[0m\n",
      "\u001b[32mStatus: \u001b[0m \u001b[97mPlot generated\u001b[0m\n",
      "\u001b[32mStatus: \u001b[0m \u001b[97mPlot generated\u001b[0m\n",
      "\u001b[32mStatus: \u001b[0m \u001b[97mPlot generated\u001b[0m\n"
     ]
    }
   ],
   "source": [
    "ideas_output = generate_ideas(metrics=['1', '2', '3', '4', '5', '6', '7'],\n",
    "                              segments=[\"1\", \"2\"],\n",
    "                              num_ideas=3,\n",
    "                              human_remark=\"What are in-app purchase ideas opportunities for this segments?\")"
   ]
  },
  {
   "cell_type": "code",
   "execution_count": 5,
   "metadata": {},
   "outputs": [],
   "source": [
    "register_ideas(ideas_details=ideas_output['ideas_details'],\n",
    "               segments=ideas_output['segments'],\n",
    "               factors=ideas_output['factors'])"
   ]
  },
  {
   "cell_type": "code",
   "execution_count": null,
   "metadata": {},
   "outputs": [],
   "source": []
  }
 ],
 "metadata": {
  "kernelspec": {
   "display_name": ".venv",
   "language": "python",
   "name": "python3"
  },
  "language_info": {
   "codemirror_mode": {
    "name": "ipython",
    "version": 3
   },
   "file_extension": ".py",
   "mimetype": "text/x-python",
   "name": "python",
   "nbconvert_exporter": "python",
   "pygments_lexer": "ipython3",
   "version": "3.12.3"
  }
 },
 "nbformat": 4,
 "nbformat_minor": 2
}
