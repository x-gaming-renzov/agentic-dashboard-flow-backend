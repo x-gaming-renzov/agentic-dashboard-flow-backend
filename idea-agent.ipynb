{
 "cells": [
  {
   "cell_type": "code",
   "execution_count": 1,
   "metadata": {},
   "outputs": [
    {
     "name": "stdout",
     "output_type": "stream",
     "text": [
      "\u001b[33mStatus: \u001b[0m \u001b[97mInitialising nodes\u001b[0m\n",
      "\u001b[33mStatus: \u001b[0m \u001b[97mInitialising ChatOpenAI\u001b[0m\n",
      "\u001b[32mStatus: \u001b[0m \u001b[97mChatOpenAI initialised\u001b[0m\n",
      "\u001b[33mStatus: \u001b[0m \u001b[97mInitialising nodes\u001b[0m\n",
      "\u001b[33mStatus: \u001b[0m \u001b[97mInitialising ChatOpenAI\u001b[0m\n",
      "\u001b[32mStatus: \u001b[0m \u001b[97mChatOpenAI initialised\u001b[0m\n"
     ]
    }
   ],
   "source": [
    "from src.agents.idea_agent.agent import *\n",
    "from src.agents.idea_agent.states.states import *"
   ]
  },
  {
   "cell_type": "code",
   "execution_count": 2,
   "metadata": {},
   "outputs": [],
   "source": [
    "state = IdeaState(segments=[\"1\", \"2\"], \n",
    "                  metrics=['1', '2', '3', '4', '5', '6', '7'], \n",
    "                  human_remark=\"What are in-app purchase ideas opportunities for this segments?\",\n",
    "                  num_ideas=3)"
   ]
  },
  {
   "cell_type": "code",
   "execution_count": 3,
   "metadata": {},
   "outputs": [
    {
     "name": "stdout",
     "output_type": "stream",
     "text": [
      "\u001b[32mStatus: \u001b[0m \u001b[97mPlot generated\u001b[0m\n",
      "\u001b[32mStatus: \u001b[0m \u001b[97mPlot generated\u001b[0m\n",
      "\u001b[32mStatus: \u001b[0m \u001b[97mPlot generated\u001b[0m\n",
      "\u001b[32mStatus: \u001b[0m \u001b[97mPlot generated\u001b[0m\n",
      "\u001b[32mStatus: \u001b[0m \u001b[97mPlot generated\u001b[0m\n",
      "\u001b[32mStatus: \u001b[0m \u001b[97mPlot generated\u001b[0m\n",
      "\u001b[32mStatus: \u001b[0m \u001b[97mPlot generated\u001b[0m\n",
      "iVBORw0KGgoAAAANSUhEUgAAAioAAAHHCAYAAACRAnNyAAAAOnRFWHRTb2Z0d2FyZQBNYXRwbG90bGliIHZlcnNpb24zLjEwLjAs\n",
      "iVBORw0KGgoAAAANSUhEUgAAAiwAAAGzCAYAAAAMr0ziAAAAOnRFWHRTb2Z0d2FyZQBNYXRwbG90bGliIHZlcnNpb24zLjEwLjAs\n",
      "iVBORw0KGgoAAAANSUhEUgAAAkgAAAHHCAYAAABEEKc/AAAAOnRFWHRTb2Z0d2FyZQBNYXRwbG90bGliIHZlcnNpb24zLjEwLjAs\n",
      "iVBORw0KGgoAAAANSUhEUgAAAkQAAAHHCAYAAABeLEexAAAAOnRFWHRTb2Z0d2FyZQBNYXRwbG90bGliIHZlcnNpb24zLjEwLjAs\n",
      "iVBORw0KGgoAAAANSUhEUgAAAkQAAAHHCAYAAABeLEexAAAAOnRFWHRTb2Z0d2FyZQBNYXRwbG90bGliIHZlcnNpb24zLjEwLjAs\n",
      "iVBORw0KGgoAAAANSUhEUgAAAkgAAAHHCAYAAABEEKc/AAAAOnRFWHRTb2Z0d2FyZQBNYXRwbG90bGliIHZlcnNpb24zLjEwLjAs\n",
      "iVBORw0KGgoAAAANSUhEUgAAAoAAAAHgCAYAAAA10dzkAAAAOnRFWHRTb2Z0d2FyZQBNYXRwbG90bGliIHZlcnNpb24zLjEwLjAs\n"
     ]
    }
   ],
   "source": [
    "ideas_output = generate_ideas(metrics=['1', '2', '3', '4', '5', '6', '7'],\n",
    "                              segments=[\"1\", \"2\"],\n",
    "                              num_ideas=3,\n",
    "                              human_remark=\"What are in-app purchase ideas opportunities for this segments?\")"
   ]
  },
  {
   "cell_type": "code",
   "execution_count": 4,
   "metadata": {},
   "outputs": [
    {
     "data": {
      "text/plain": [
       "\"register_ideas(ideas_details=ideas_output['ideas_details'],\\n               segments=ideas_output['segments'],\\n               factors=ideas_output['factors'])\""
      ]
     },
     "execution_count": 4,
     "metadata": {},
     "output_type": "execute_result"
    }
   ],
   "source": [
    "\"\"\"register_ideas(ideas_details=ideas_output['ideas_details'],\n",
    "               segments=ideas_output['segments'],\n",
    "               factors=ideas_output['factors'])\"\"\""
   ]
  },
  {
   "cell_type": "code",
   "execution_count": 7,
   "metadata": {},
   "outputs": [
    {
     "data": {
      "text/plain": [
       "[IdeasDetails(name='Legendary Weapon Skins', one_liner='Enhance your arsenal with limited-time legendary weapon skins.', detailed_description=\"Introduce weapon skins that are visually appealing and are limited editions tied to specific seasons or events. These skins don't affect gameplay but add a prestigious touch to players' arsenals, encouraging players to purchase them to stand out in PvP battles.\", idea_type='in-app-purchases'),\n",
       " IdeasDetails(name='PvP Arena Pass', one_liner='Unlock exclusive access to elite PvP arenas with the Arena Pass.', detailed_description='Offer a PvP Arena Pass that grants access to exclusive arenas with enhanced rewards. This pass could include unique challenges or bosses, and provide special rewards like rare crafting materials, increasing player engagement in PvP activities.', idea_type='in-app-purchases'),\n",
       " IdeasDetails(name='Resource Accelerator Pack', one_liner='Boost your crafting efficiency with the Resource Accelerator Pack.', detailed_description='Sell a Resource Accelerator Pack that temporarily boosts resource collection rates or provides rare resources needed for crafting high-level gear. This pack would be particularly appealing during limited-time events, encouraging players to complete crafting projects more efficiently.', idea_type='in-app-purchases')]"
      ]
     },
     "execution_count": 7,
     "metadata": {},
     "output_type": "execute_result"
    }
   ],
   "source": [
    "ideas_output['ideas_details']"
   ]
  },
  {
   "cell_type": "code",
   "execution_count": null,
   "metadata": {},
   "outputs": [],
   "source": []
  }
 ],
 "metadata": {
  "kernelspec": {
   "display_name": ".venv",
   "language": "python",
   "name": "python3"
  },
  "language_info": {
   "codemirror_mode": {
    "name": "ipython",
    "version": 3
   },
   "file_extension": ".py",
   "mimetype": "text/x-python",
   "name": "python",
   "nbconvert_exporter": "python",
   "pygments_lexer": "ipython3",
   "version": "3.12.3"
  }
 },
 "nbformat": 4,
 "nbformat_minor": 2
}
