{
 "cells": [
  {
   "cell_type": "code",
   "execution_count": 1,
   "metadata": {},
   "outputs": [
    {
     "name": "stdout",
     "output_type": "stream",
     "text": [
      "\u001b[33mStatus: \u001b[0m \u001b[97mInitialising nodes\u001b[0m\n",
      "\u001b[33mStatus: \u001b[0m \u001b[97mInitialising ChatOpenAI\u001b[0m\n",
      "\u001b[32mStatus: \u001b[0m \u001b[97mChatOpenAI initialised\u001b[0m\n",
      "\u001b[33mStatus: \u001b[0m \u001b[97mInitialising nodes\u001b[0m\n",
      "\u001b[33mStatus: \u001b[0m \u001b[97mInitialising ChatOpenAI\u001b[0m\n",
      "\u001b[32mStatus: \u001b[0m \u001b[97mChatOpenAI initialised\u001b[0m\n"
     ]
    }
   ],
   "source": [
    "from src.agents.idea_agent.agent import *\n",
    "from src.agents.idea_agent.states.states import *"
   ]
  },
  {
   "cell_type": "code",
   "execution_count": 2,
   "metadata": {},
   "outputs": [],
   "source": [
    "state = IdeaState(segments=[], \n",
    "                  metrics=['1', '2', '3', '4'], \n",
    "                  human_remark=\"What are in-app purchase ideas opportunities for Bedrock users. Basically who played from phone. Minecraft bedrock version. Can be identified by . in prefix of username\",\n",
    "                  num_ideas=3)"
   ]
  },
  {
   "cell_type": "code",
   "execution_count": 9,
   "metadata": {},
   "outputs": [
    {
     "name": "stdout",
     "output_type": "stream",
     "text": [
      "\u001b[32mStatus: \u001b[0m \u001b[97mPlot generated\u001b[0m\n",
      "\u001b[32mStatus: \u001b[0m \u001b[97mPlot generated\u001b[0m\n",
      "\u001b[32mStatus: \u001b[0m \u001b[97mPlot generated\u001b[0m\n",
      "\u001b[32mStatus: \u001b[0m \u001b[97mPlot generated\u001b[0m\n",
      "\u001b[32mStatus: \u001b[0m \u001b[97mPlot generated\u001b[0m\n",
      "\u001b[32mStatus: \u001b[0m \u001b[97mPlot generated\u001b[0m\n",
      "\u001b[32mStatus: \u001b[0m \u001b[97mPlot generated\u001b[0m\n",
      "iVBORw0KGgoAAAANSUhEUgAAAiwAAAGzCAYAAAAMr0ziAAAAOnRFWHRTb2Z0d2FyZQBNYXRwbG90bGliIHZlcnNpb24zLjEwLjAs\n",
      "iVBORw0KGgoAAAANSUhEUgAAAkgAAAHHCAYAAABEEKc/AAAAOnRFWHRTb2Z0d2FyZQBNYXRwbG90bGliIHZlcnNpb24zLjEwLjAs\n",
      "iVBORw0KGgoAAAANSUhEUgAAAkQAAAHHCAYAAABeLEexAAAAOnRFWHRTb2Z0d2FyZQBNYXRwbG90bGliIHZlcnNpb24zLjEwLjAs\n",
      "iVBORw0KGgoAAAANSUhEUgAAAk0AAAHHCAYAAACiOWx7AAAAOnRFWHRTb2Z0d2FyZQBNYXRwbG90bGliIHZlcnNpb24zLjEwLjAs\n",
      "iVBORw0KGgoAAAANSUhEUgAAAkQAAAHHCAYAAABeLEexAAAAOnRFWHRTb2Z0d2FyZQBNYXRwbG90bGliIHZlcnNpb24zLjEwLjAs\n",
      "iVBORw0KGgoAAAANSUhEUgAAAioAAAHHCAYAAACRAnNyAAAAOnRFWHRTb2Z0d2FyZQBNYXRwbG90bGliIHZlcnNpb24zLjEwLjAs\n",
      "iVBORw0KGgoAAAANSUhEUgAAAkQAAAHHCAYAAABeLEexAAAAOnRFWHRTb2Z0d2FyZQBNYXRwbG90bGliIHZlcnNpb24zLjEwLjAs\n"
     ]
    }
   ],
   "source": [
    "ideas_output = generate_ideas(metrics=['1', '2', '3', '4'],\n",
    "                              segments=[],\n",
    "                              num_ideas=1,\n",
    "                              human_remark=\"What are in-app purchase ideas opportunities for : players who loves making automated farms in minecraft\")"
   ]
  },
  {
   "cell_type": "code",
   "execution_count": 11,
   "metadata": {},
   "outputs": [
    {
     "data": {
      "text/plain": [
       "['96']"
      ]
     },
     "execution_count": 11,
     "metadata": {},
     "output_type": "execute_result"
    }
   ],
   "source": [
    "register_ideas(ideas_details=ideas_output['ideas_details'],\n",
    "               segments=ideas_output['segments'],\n",
    "               factors=ideas_output['factors'])"
   ]
  },
  {
   "cell_type": "code",
   "execution_count": 10,
   "metadata": {},
   "outputs": [
    {
     "data": {
      "text/plain": [
       "[IdeasDetails(name='PvP Bundle Offers for Mobile Bedrock Players', one_liner='Boost PvP engagement with exclusive bundle offers for mobile players.', detailed_description=\"To enhance engagement among mobile Bedrock users and increase in-app purchases, introduce exclusive PvP bundle offers tailored specifically for phone players. These bundles could include unique skins, rare PvP gear, and temporary boosts to enhance PvP performance. By bundling these items at a discounted rate, encouraging participation in PvP activities and highlighting them as limited-time offers, players will be motivated to engage more frequently and for longer durations. This not only aligns with the focus metrics on increasing PvP engagement but also capitalizes on the mobile platform's potential for in-app purchases.\", idea_type='offer')]"
      ]
     },
     "execution_count": 10,
     "metadata": {},
     "output_type": "execute_result"
    }
   ],
   "source": [
    "ideas_output['ideas_details']"
   ]
  },
  {
   "cell_type": "code",
   "execution_count": 10,
   "metadata": {},
   "outputs": [
    {
     "name": "stdout",
     "output_type": "stream",
     "text": [
      "For players intrigued by automated farming in Minecraft-like experiences, provide a Farm Automation Kit Expansion. This could include access to advanced farming tools, exclusive seeds with special attributes, and templates for efficient farm layouts. These tools enhance productivity and creativity in farming without requiring design or development changes, aligning with the game's survival RPG mechanics. This offering also taps into player interests, potentially improving session length and frequency by investing them further into the farming mechanics.\n"
     ]
    }
   ],
   "source": [
    "print(ideas_output['ideas_details'][0].detailed_description)"
   ]
  },
  {
   "cell_type": "code",
   "execution_count": null,
   "metadata": {},
   "outputs": [],
   "source": []
  },
  {
   "cell_type": "markdown",
   "metadata": {},
   "source": [
    "For players intrigued by automated farming in Minecraft-like experiences, provide a Farm Automation Kit Expansion. This could include access to advanced farming tools, exclusive seeds with special attributes, and templates for efficient farm layouts. These tools enhance productivity and creativity in farming without requiring design or development changes, aligning with the game's survival RPG mechanics. This offering also taps into player interests, potentially improving session length and frequency by investing them further into the farming mechanics."
   ]
  }
 ],
 "metadata": {
  "kernelspec": {
   "display_name": ".venv",
   "language": "python",
   "name": "python3"
  },
  "language_info": {
   "codemirror_mode": {
    "name": "ipython",
    "version": 3
   },
   "file_extension": ".py",
   "mimetype": "text/x-python",
   "name": "python",
   "nbconvert_exporter": "python",
   "pygments_lexer": "ipython3",
   "version": "3.12.8"
  }
 },
 "nbformat": 4,
 "nbformat_minor": 2
}
