{
 "cells": [
  {
   "cell_type": "code",
   "execution_count": 1,
   "metadata": {},
   "outputs": [
    {
     "name": "stdout",
     "output_type": "stream",
     "text": [
      "\u001b[33mStatus: \u001b[0m \u001b[97mInitialising nodes\u001b[0m\n",
      "\u001b[33mStatus: \u001b[0m \u001b[97mInitialising ChatOpenAI\u001b[0m\n",
      "\u001b[32mStatus: \u001b[0m \u001b[97mChatOpenAI initialised\u001b[0m\n",
      "\u001b[33mStatus: \u001b[0m \u001b[97mInitialising nodes\u001b[0m\n",
      "\u001b[33mStatus: \u001b[0m \u001b[97mInitialising ChatOpenAI\u001b[0m\n",
      "\u001b[32mStatus: \u001b[0m \u001b[97mChatOpenAI initialised\u001b[0m\n"
     ]
    }
   ],
   "source": [
    "from src.agents.item_agent.nodes.nodes import *"
   ]
  },
  {
   "cell_type": "code",
   "execution_count": 2,
   "metadata": {},
   "outputs": [],
   "source": [
    "description = \"designed for the competitive player, this bundle provides crucial boosts for PvP battles, enhancing both offense and defense strategies. With upgrades tailored to skills and gear, players are positioned for success in their PvP endeavors.\""
   ]
  },
  {
   "cell_type": "code",
   "execution_count": 3,
   "metadata": {},
   "outputs": [],
   "source": [
    "multi_details = get_multi_item_details_node(description)"
   ]
  },
  {
   "cell_type": "code",
   "execution_count": 4,
   "metadata": {},
   "outputs": [
    {
     "data": {
      "text/plain": [
       "[ItemDetails(name='Vampiric Stew', description=\"A dish made to restore health while feeding on enemies' pain.\", amount=2, properties='Restores 6 hunger points; grants Regeneration I for 5 seconds when consumed.', category='food'),\n",
       " ItemDetails(name='Guardian Helm', description=\"This enchanted helm reflects damage back at attackers while reinforcing the wearer's strength.\", amount=1, properties='Diamond Helmet with Protection IV and Thorns II enchantments.', category='armor'),\n",
       " ItemDetails(name=\"Phoenix's Fury Bow\", description='A bow that ignites enemies with the wrath of the phoenix upon firing.', amount=1, properties='Bow enchanted with Flame I and Power II enchantments.', category='bow'),\n",
       " ItemDetails(name='Crimson Sabre', description='A blade forged in the heat of battle, thirsting for victory.', amount=1, properties='Iron Sword with Sharpness III and Unbreaking I enchantments.', category='swords')]"
      ]
     },
     "execution_count": 4,
     "metadata": {},
     "output_type": "execute_result"
    }
   ],
   "source": [
    "multi_details.items"
   ]
  },
  {
   "cell_type": "code",
   "execution_count": 6,
   "metadata": {},
   "outputs": [
    {
     "name": "stdout",
     "output_type": "stream",
     "text": [
      "Vampiric Stew\n",
      "A dish made to restore health while feeding on enemies' pain.\n",
      "2\n",
      "Restores 6 hunger points; grants Regeneration I for 5 seconds when consumed.\n",
      "food\n",
      "-------------------\n",
      "Guardian Helm\n",
      "This enchanted helm reflects damage back at attackers while reinforcing the wearer's strength.\n",
      "1\n",
      "Diamond Helmet with Protection IV and Thorns II enchantments.\n",
      "armor\n",
      "-------------------\n",
      "Phoenix's Fury Bow\n",
      "A bow that ignites enemies with the wrath of the phoenix upon firing.\n",
      "1\n",
      "Bow enchanted with Flame I and Power II enchantments.\n",
      "bow\n",
      "-------------------\n",
      "Crimson Sabre\n",
      "A blade forged in the heat of battle, thirsting for victory.\n",
      "1\n",
      "Iron Sword with Sharpness III and Unbreaking I enchantments.\n",
      "swords\n",
      "-------------------\n"
     ]
    }
   ],
   "source": [
    "for details in multi_details.items:\n",
    "    print(details.name)\n",
    "    print(details.description)\n",
    "    print(details.amount)\n",
    "    print(details.properties)\n",
    "    print(details.category)\n",
    "    print(\"-------------------\")"
   ]
  },
  {
   "cell_type": "code",
   "execution_count": null,
   "metadata": {},
   "outputs": [],
   "source": []
  }
 ],
 "metadata": {
  "kernelspec": {
   "display_name": ".venv",
   "language": "python",
   "name": "python3"
  },
  "language_info": {
   "codemirror_mode": {
    "name": "ipython",
    "version": 3
   },
   "file_extension": ".py",
   "mimetype": "text/x-python",
   "name": "python",
   "nbconvert_exporter": "python",
   "pygments_lexer": "ipython3",
   "version": "3.12.8"
  }
 },
 "nbformat": 4,
 "nbformat_minor": 2
}
