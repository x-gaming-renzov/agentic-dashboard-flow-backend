{
 "cells": [
  {
   "cell_type": "code",
   "execution_count": 1,
   "metadata": {},
   "outputs": [
    {
     "name": "stdout",
     "output_type": "stream",
     "text": [
      "\u001b[33mStatus: \u001b[0m \u001b[97mInitialising nodes\u001b[0m\n",
      "\u001b[33mStatus: \u001b[0m \u001b[97mInitialising ChatOpenAI\u001b[0m\n",
      "\u001b[32mStatus: \u001b[0m \u001b[97mChatOpenAI initialised\u001b[0m\n",
      "\u001b[33mStatus: \u001b[0m \u001b[97mInitialising nodes\u001b[0m\n",
      "\u001b[33mStatus: \u001b[0m \u001b[97mInitialising ChatOpenAI\u001b[0m\n",
      "\u001b[32mStatus: \u001b[0m \u001b[97mChatOpenAI initialised\u001b[0m\n"
     ]
    }
   ],
   "source": [
    "from src.agents.item_agent.nodes.nodes import *"
   ]
  },
  {
   "cell_type": "code",
   "execution_count": 2,
   "metadata": {},
   "outputs": [],
   "source": [
    "description = \"designed for the competitive player, this bundle provides crucial boosts for PvP battles, enhancing both offense and defense strategies. With upgrades tailored to skills and gear, players are positioned for success in their PvP endeavors.\""
   ]
  },
  {
   "cell_type": "code",
   "execution_count": 3,
   "metadata": {},
   "outputs": [],
   "source": [
    "multi_details = get_multi_item_details_node(description)"
   ]
  },
  {
   "cell_type": "code",
   "execution_count": 4,
   "metadata": {},
   "outputs": [
    {
     "data": {
      "text/plain": [
       "[ItemDetails(name=\"Viper's Fang\", description='A sword crafted from the fangs of a mystical serpent, sharp and deadly.', amount=1, properties='A diamond sword with Sharpness II and Poisoned effect for 5 seconds.', category='tools'),\n",
       " ItemDetails(name=\"Phantom's Embrace\", description='A bow that whispers secrets of the night, striking fear in foes.', amount=1, properties='A bow with Power II and Infinity enchantments, ideal for relentless assaults.', category='bow'),\n",
       " ItemDetails(name=\"Berserker's Brew\", description='A potent potion that heightens rage and strength for battle.', amount=3, properties='Strength II for 3 minutes, boosting damage for fierce encounters.', category='potions'),\n",
       " ItemDetails(name=\"Guardian's Ward\", description='A shield forged from the finest obsidian, resilient against foes.', amount=1, properties='Iron chestplate with Protection III and Unbreaking I, enhancing defense significantly.', category='armor')]"
      ]
     },
     "execution_count": 4,
     "metadata": {},
     "output_type": "execute_result"
    }
   ],
   "source": [
    "multi_details.items"
   ]
  },
  {
   "cell_type": "code",
   "execution_count": 5,
   "metadata": {},
   "outputs": [
    {
     "name": "stdout",
     "output_type": "stream",
     "text": [
      "Viper's Fang\n",
      "A sword crafted from the fangs of a mystical serpent, sharp and deadly.\n",
      "1\n",
      "A diamond sword with Sharpness II and Poisoned effect for 5 seconds.\n",
      "tools\n",
      "-------------------\n",
      "Phantom's Embrace\n",
      "A bow that whispers secrets of the night, striking fear in foes.\n",
      "1\n",
      "A bow with Power II and Infinity enchantments, ideal for relentless assaults.\n",
      "bow\n",
      "-------------------\n",
      "Berserker's Brew\n",
      "A potent potion that heightens rage and strength for battle.\n",
      "3\n",
      "Strength II for 3 minutes, boosting damage for fierce encounters.\n",
      "potions\n",
      "-------------------\n",
      "Guardian's Ward\n",
      "A shield forged from the finest obsidian, resilient against foes.\n",
      "1\n",
      "Iron chestplate with Protection III and Unbreaking I, enhancing defense significantly.\n",
      "armor\n",
      "-------------------\n"
     ]
    }
   ],
   "source": [
    "for details in multi_details.items:\n",
    "    print(details.name)\n",
    "    print(details.description)\n",
    "    print(details.amount)\n",
    "    print(details.properties)\n",
    "    print(details.category)\n",
    "    print(\"-------------------\")"
   ]
  },
  {
   "cell_type": "code",
   "execution_count": 6,
   "metadata": {},
   "outputs": [],
   "source": [
    "item_details = get_multi_item_commands(Items=multi_details)"
   ]
  },
  {
   "cell_type": "code",
   "execution_count": 7,
   "metadata": {},
   "outputs": [
    {
     "data": {
      "text/plain": [
       "[{'item': {'name': \"Viper's Fang\",\n",
       "   'description': 'A sword crafted from the fangs of a mystical serpent, sharp and deadly.',\n",
       "   'amount': 1,\n",
       "   'properties': 'A diamond sword with Sharpness II and Poisoned effect for 5 seconds.',\n",
       "   'category': 'tools',\n",
       "   'top_k': [{'description': 'A highly durable and powerful sword made from diamond.',\n",
       "     'detailed_description': 'Tool Type: Sword | Name: Diamond Sword | Description: A highly durable and powerful sword made from diamond. | Category :  tools',\n",
       "     '_id': '106',\n",
       "     'name': 'Diamond Sword',\n",
       "     'score': np.float64(0.6226182167761831),\n",
       "     'category': 'tools'},\n",
       "    {'description': 'Increases melee damage',\n",
       "     'detailed_description': 'Name: Sharpness | Description: Increases melee damage | Category :  tools_enchantment',\n",
       "     '_id': '136',\n",
       "     'name': 'Sharpness',\n",
       "     'score': np.float64(0.5624238182536042),\n",
       "     'category': 'tools_enchantment'}]}},\n",
       " {'item': {'name': \"Phantom's Embrace\",\n",
       "   'description': 'A bow that whispers secrets of the night, striking fear in foes.',\n",
       "   'amount': 1,\n",
       "   'properties': 'A bow with Power II and Infinity enchantments, ideal for relentless assaults.',\n",
       "   'category': 'bow',\n",
       "   'top_k': [{'description': 'Chance to launch an Ender Pearl instead of an arrow.',\n",
       "     'detailed_description': 'Name: Ender Bow | Description: Chance to launch an Ender Pearl instead of an arrow. | Applies To: Bows, Crossbows | Conflicts With: Ghast, Bomber, Flare | Category :  bow_enchantment',\n",
       "     '_id': '69',\n",
       "     'name': 'Ender Bow',\n",
       "     'score': np.float64(0.5080380561788277),\n",
       "     'category': 'bow_enchantment'}]}},\n",
       " {'item': {'name': \"Berserker's Brew\",\n",
       "   'description': 'A potent potion that heightens rage and strength for battle.',\n",
       "   'amount': 3,\n",
       "   'properties': 'Strength II for 3 minutes, boosting damage for fierce encounters.',\n",
       "   'category': 'potions',\n",
       "   'top_k': [{'description': 'A potion which player can drink to get a variety of effects',\n",
       "     'detailed_description': 'A potion which player can drink to get a variety of effects',\n",
       "     '_id': '152',\n",
       "     'name': 'potion',\n",
       "     'score': np.float64(0.18560207417708294),\n",
       "     'category': 'potions'},\n",
       "    {'description': 'Increases melee damage',\n",
       "     'detailed_description': 'Category: Potion | Name: Potion of Strength | Description: Increases melee damage | Levels (Vanilla): I, II | Levels (Custom): I - V | Types: Regular, Splash, Lingering | Category :  potions',\n",
       "     '_id': '15',\n",
       "     'name': 'Potion of Strength',\n",
       "     'score': np.float64(0.49068831970878485),\n",
       "     'category': 'potion_effect'}]}},\n",
       " {'item': {'name': \"Guardian's Ward\",\n",
       "   'description': 'A shield forged from the finest obsidian, resilient against foes.',\n",
       "   'amount': 1,\n",
       "   'properties': 'Iron chestplate with Protection III and Unbreaking I, enhancing defense significantly.',\n",
       "   'category': 'armor',\n",
       "   'top_k': [{'description': 'A chestplate made from diamond, offering high protection and durability.',\n",
       "     'detailed_description': 'Armor Type: Chestplate | Name: Diamond Chestplate | Description: A chestplate made from diamond, offering high protection and durability. | Category :  armour',\n",
       "     '_id': '162',\n",
       "     'name': 'Diamond Chestplate',\n",
       "     'score': np.float64(0.6276520374165351),\n",
       "     'category': 'armor'},\n",
       "    {'description': 'Grants Damage Resistance effect on receiving damage.',\n",
       "     'detailed_description': 'Name: Hardened | Description: Grants Damage Resistance effect on receiving damage. | Applies To: Chestplate | Conflicts With: - | Category :  armour_enchantment',\n",
       "     '_id': '92',\n",
       "     'name': 'Hardened',\n",
       "     'score': np.float64(0.5588395108328394),\n",
       "     'category': 'armor_enchantment'}]}}]"
      ]
     },
     "execution_count": 7,
     "metadata": {},
     "output_type": "execute_result"
    }
   ],
   "source": [
    "item_details"
   ]
  },
  {
   "cell_type": "code",
   "execution_count": null,
   "metadata": {},
   "outputs": [],
   "source": []
  }
 ],
 "metadata": {
  "kernelspec": {
   "display_name": ".venv",
   "language": "python",
   "name": "python3"
  },
  "language_info": {
   "codemirror_mode": {
    "name": "ipython",
    "version": 3
   },
   "file_extension": ".py",
   "mimetype": "text/x-python",
   "name": "python",
   "nbconvert_exporter": "python",
   "pygments_lexer": "ipython3",
   "version": "3.12.8"
  }
 },
 "nbformat": 4,
 "nbformat_minor": 2
}
