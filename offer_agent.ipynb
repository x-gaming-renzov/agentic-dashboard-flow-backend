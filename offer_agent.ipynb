{
 "cells": [
  {
   "cell_type": "code",
   "execution_count": 1,
   "metadata": {},
   "outputs": [
    {
     "name": "stdout",
     "output_type": "stream",
     "text": [
      "\u001b[33mStatus: \u001b[0m \u001b[97mInitialising nodes\u001b[0m\n",
      "\u001b[33mStatus: \u001b[0m \u001b[97mInitialising ChatOpenAI\u001b[0m\n",
      "\u001b[32mStatus: \u001b[0m \u001b[97mChatOpenAI initialised\u001b[0m\n",
      "\u001b[33mStatus: \u001b[0m \u001b[97mInitialising nodes\u001b[0m\n",
      "\u001b[33mStatus: \u001b[0m \u001b[97mInitialising ChatOpenAI\u001b[0m\n",
      "\u001b[32mStatus: \u001b[0m \u001b[97mChatOpenAI initialised\u001b[0m\n"
     ]
    }
   ],
   "source": [
    "from src.agents.offer_agent.agent import *"
   ]
  },
  {
   "cell_type": "code",
   "execution_count": 11,
   "metadata": {},
   "outputs": [],
   "source": [
    "segments = []\n",
    "metrics = ['1', '2', '3', '4', '5', '6', '7']\n",
    "ideas = ['96']\n",
    "human_remark = 'Explore personalised in-app offers for my segemnts'"
   ]
  },
  {
   "cell_type": "code",
   "execution_count": 12,
   "metadata": {},
   "outputs": [
    {
     "name": "stdout",
     "output_type": "stream",
     "text": [
      "\u001b[32mStatus: \u001b[0m \u001b[97mPlot generated\u001b[0m\n",
      "\u001b[32mStatus: \u001b[0m \u001b[97mPlot generated\u001b[0m\n",
      "\u001b[32mStatus: \u001b[0m \u001b[97mPlot generated\u001b[0m\n",
      "\u001b[32mStatus: \u001b[0m \u001b[97mPlot generated\u001b[0m\n",
      "\u001b[32mStatus: \u001b[0m \u001b[97mPlot generated\u001b[0m\n",
      "\u001b[32mStatus: \u001b[0m \u001b[97mPlot generated\u001b[0m\n",
      "\u001b[32mStatus: \u001b[0m \u001b[97mPlot generated\u001b[0m\n"
     ]
    }
   ],
   "source": [
    "offers = get_offers(metric_ids=metrics, segment_ids=segments, human_remark=human_remark, idea_ids=ideas)"
   ]
  },
  {
   "cell_type": "code",
   "execution_count": 13,
   "metadata": {},
   "outputs": [
    {
     "name": "stdout",
     "output_type": "stream",
     "text": [
      "```markdown\n",
      "# Personalised In-App Purchase Bundles Report\n",
      "\n",
      "## Overview\n",
      "This report outlines personalised in-app purchase bundle recommendations tailored for specific player segments within the True Survival Series. The focus is on enhancing player engagement through in-game farming mechanics and experiences.\n",
      "\n",
      "### Bundle 1: Farm Automation Kit Expansion\n",
      "\n",
      "#### Bundle Price\n",
      "- **$9.99**\n",
      "\n",
      "#### Bundle Items\n",
      "- 5 Advanced Farming Tools (e.g., automated tillers)\n",
      "- 10 Exclusive Seeds (with special attributes)\n",
      "- 1 Farm Layout Template (easy to implement)\n",
      "\n",
      "#### Bundle Description\n",
      "Boost your automated farming with the **Farm Automation Kit Expansion**! This bundle includes advanced tools designed to enhance productivity, exclusive seeds that yield higher resources, and a blueprint for an efficient farm layout. Perfect for players who wish to maximize their farming potential without requiring design changes or additional development.\n",
      "\n",
      "#### Segments\n",
      "- Players engaged primarily in farming activities.\n",
      "- Players with a high session frequency focused on sustaining larger farms.\n",
      "\n",
      "#### Bundle Recommendation\n",
      "Given the current player metrics, this bundle is recommended for those actively participating in farming, as seen by their session lengths and frequency. Players leveraging automated farming are likely to find value in this offer, potentially increasing their session time and overall engagement.\n",
      "\n",
      "#### Product Experiment Instructions\n",
      "1. Target the identified segment with in-game notifications showcasing the **Farm Automation Kit Expansion**.\n",
      "2. Track engagement metrics (e.g., session time, session frequency) pre- and post-launch of the bundle offer.\n",
      "3. Conduct surveys among players who purchase the bundle to gather feedback and insights on their farming experience.\n",
      "\n",
      "### Conclusion\n",
      "The **Farm Automation Kit Expansion** not only aligns with the gameplay mechanics but also addresses player interests in farming, thereby enhancing their overall experience in the True Survival Series. Monitoring the success of this offer will provide vital data for future personalised in-app purchase strategies.\n",
      "\n",
      "```\n",
      "\n"
     ]
    }
   ],
   "source": [
    "print(offers['offers'])"
   ]
  },
  {
   "cell_type": "code",
   "execution_count": 14,
   "metadata": {},
   "outputs": [],
   "source": [
    "chat_id = register_new_chat(offers)"
   ]
  },
  {
   "cell_type": "code",
   "execution_count": 15,
   "metadata": {},
   "outputs": [
    {
     "data": {
      "text/plain": [
       "'101'"
      ]
     },
     "execution_count": 15,
     "metadata": {},
     "output_type": "execute_result"
    }
   ],
   "source": [
    "chat_id"
   ]
  },
  {
   "cell_type": "code",
   "execution_count": null,
   "metadata": {},
   "outputs": [],
   "source": []
  },
  {
   "cell_type": "markdown",
   "metadata": {},
   "source": [
    "# Personalised In-App Purchase Bundles Report\n",
    "\n",
    "## Overview\n",
    "This report outlines personalised in-app purchase bundle recommendations tailored for specific player segments within the True Survival Series. The focus is on enhancing player engagement through in-game farming mechanics and experiences.\n",
    "\n",
    "### Bundle 1: Farm Automation Kit Expansion\n",
    "\n",
    "#### Bundle Price\n",
    "- **$9.99**\n",
    "\n",
    "#### Bundle Items\n",
    "- 5 Advanced Farming Tools (e.g., automated tillers)\n",
    "- 10 Exclusive Seeds (with special attributes)\n",
    "- 1 Farm Layout Template (easy to implement)\n",
    "\n",
    "#### Bundle Description\n",
    "Boost your automated farming with the **Farm Automation Kit Expansion**! This bundle includes advanced tools designed to enhance productivity, exclusive seeds that yield higher resources, and a blueprint for an efficient farm layout. Perfect for players who wish to maximize their farming potential without requiring design changes or additional development.\n",
    "\n",
    "#### Segments\n",
    "- Players engaged primarily in farming activities.\n",
    "- Players with a high session frequency focused on sustaining larger farms.\n",
    "\n",
    "#### Bundle Recommendation\n",
    "Given the current player metrics, this bundle is recommended for those actively participating in farming, as seen by their session lengths and frequency. Players leveraging automated farming are likely to find value in this offer, potentially increasing their session time and overall engagement.\n",
    "\n",
    "#### Product Experiment Instructions\n",
    "1. Target the identified segment with in-game notifications showcasing the **Farm Automation Kit Expansion**.\n",
    "2. Track engagement metrics (e.g., session time, session frequency) pre- and post-launch of the bundle offer.\n",
    "3. Conduct surveys among players who purchase the bundle to gather feedback and insights on their farming experience.\n",
    "\n",
    "### Conclusion\n",
    "The **Farm Automation Kit Expansion** not only aligns with the gameplay mechanics but also addresses player interests in farming, thereby enhancing their overall experience in the True Survival Series. Monitoring the success of this offer will provide vital data for future personalised in-app purchase strategies.\n"
   ]
  },
  {
   "cell_type": "markdown",
   "metadata": {},
   "source": []
  }
 ],
 "metadata": {
  "kernelspec": {
   "display_name": ".venv",
   "language": "python",
   "name": "python3"
  },
  "language_info": {
   "codemirror_mode": {
    "name": "ipython",
    "version": 3
   },
   "file_extension": ".py",
   "mimetype": "text/x-python",
   "name": "python",
   "nbconvert_exporter": "python",
   "pygments_lexer": "ipython3",
   "version": "3.12.8"
  }
 },
 "nbformat": 4,
 "nbformat_minor": 2
}
