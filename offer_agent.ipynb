{
 "cells": [
  {
   "cell_type": "code",
   "execution_count": 1,
   "metadata": {},
   "outputs": [
    {
     "name": "stdout",
     "output_type": "stream",
     "text": [
      "\u001b[33mStatus: \u001b[0m \u001b[97mInitialising nodes\u001b[0m\n",
      "\u001b[33mStatus: \u001b[0m \u001b[97mInitialising ChatOpenAI\u001b[0m\n",
      "\u001b[32mStatus: \u001b[0m \u001b[97mChatOpenAI initialised\u001b[0m\n",
      "\u001b[33mStatus: \u001b[0m \u001b[97mInitialising nodes\u001b[0m\n",
      "\u001b[33mStatus: \u001b[0m \u001b[97mInitialising ChatOpenAI\u001b[0m\n",
      "\u001b[32mStatus: \u001b[0m \u001b[97mChatOpenAI initialised\u001b[0m\n"
     ]
    }
   ],
   "source": [
    "from src.agents.offer_agent.agent import *"
   ]
  },
  {
   "cell_type": "code",
   "execution_count": 2,
   "metadata": {},
   "outputs": [],
   "source": [
    "segments = ['1', '2']\n",
    "metrics = ['1', '2', '3', '4', '5', '6', '7']\n",
    "human_remark = 'Explore personalised in-app offers for my segemnts'"
   ]
  },
  {
   "cell_type": "code",
   "execution_count": null,
   "metadata": {},
   "outputs": [],
   "source": []
  }
 ],
 "metadata": {
  "kernelspec": {
   "display_name": ".venv",
   "language": "python",
   "name": "python3"
  },
  "language_info": {
   "codemirror_mode": {
    "name": "ipython",
    "version": 3
   },
   "file_extension": ".py",
   "mimetype": "text/x-python",
   "name": "python",
   "nbconvert_exporter": "python",
   "pygments_lexer": "ipython3",
   "version": "3.12.3"
  }
 },
 "nbformat": 4,
 "nbformat_minor": 2
}
