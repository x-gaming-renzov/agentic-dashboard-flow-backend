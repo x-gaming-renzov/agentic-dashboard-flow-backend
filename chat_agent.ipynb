{
 "cells": [
  {
   "cell_type": "code",
   "execution_count": 2,
   "metadata": {},
   "outputs": [
    {
     "name": "stdout",
     "output_type": "stream",
     "text": [
      "\u001b[33mStatus: \u001b[0m \u001b[97mInitialising nodes\u001b[0m\n",
      "\u001b[33mStatus: \u001b[0m \u001b[97mInitialising ChatOpenAI\u001b[0m\n",
      "\u001b[32mStatus: \u001b[0m \u001b[97mChatOpenAI initialised\u001b[0m\n",
      "\u001b[33mStatus: \u001b[0m \u001b[97mInitialising nodes\u001b[0m\n",
      "\u001b[33mStatus: \u001b[0m \u001b[97mInitialising ChatOpenAI\u001b[0m\n",
      "\u001b[32mStatus: \u001b[0m \u001b[97mChatOpenAI initialised\u001b[0m\n",
      "\u001b[33mStatus: \u001b[0m \u001b[97mInitialising nodes\u001b[0m\n",
      "\u001b[33mStatus: \u001b[0m \u001b[97mInitialising ChatOpenAI\u001b[0m\n",
      "\u001b[32mStatus: \u001b[0m \u001b[97mChatOpenAI initialised\u001b[0m\n",
      "\u001b[33mStatus: \u001b[0m \u001b[97mInitialising nodes\u001b[0m\n",
      "\u001b[33mStatus: \u001b[0m \u001b[97mInitialising ChatOpenAI\u001b[0m\n",
      "\u001b[32mStatus: \u001b[0m \u001b[97mChatOpenAI initialised\u001b[0m\n"
     ]
    }
   ],
   "source": [
    "from src.agents.chat_agent.agent import  *"
   ]
  },
  {
   "cell_type": "code",
   "execution_count": 3,
   "metadata": {},
   "outputs": [],
   "source": [
    "#chat_agent('1', \"hello\")"
   ]
  },
  {
   "cell_type": "code",
   "execution_count": 10,
   "metadata": {},
   "outputs": [],
   "source": [
    "out = chat_agent('37', \"modify the ofer bundle to increase player kills\")"
   ]
  },
  {
   "cell_type": "code",
   "execution_count": 13,
   "metadata": {},
   "outputs": [
    {
     "name": "stdout",
     "output_type": "stream",
     "text": [
      "To modify the offer bundle effectively to encourage more player kills, we can focus on enhancing the rewards and features that specifically resonate with competitive players. Here’s a refined version of the offer bundle:\n",
      "\n",
      "### PvP Kill Streak Bundle\n",
      "\n",
      "**One-liner:** \"Unlock powerful rewards for every player you defeat!\"\n",
      "\n",
      "**Detailed Description:** \n",
      "Enhance your PvP experience with the **PvP Kill Streak Bundle**, designed to incentivize players to engage in combat and achieve kill streaks. This bundle will reward players not only for kills but also for their performance in PvP battles, thereby promoting a more aggressive playstyle.\n",
      "\n",
      "#### Bundle Includes:\n",
      "1. **Kill Streak Rewards:**  \n",
      "   Players earn bonuses for consecutive kills, including:\n",
      "   - Extra experience points for skills linked to combat (fighting, archery, etc.).\n",
      "   - Special currency rewarded after each kill that can be accumulated and spent on exclusive items.\n",
      "\n",
      "2. **Temporary Power-Ups:** \n",
      "   Limited-time boosts such as increased damage, health regeneration, or speed enhancements during PvP sessions to encourage aggressive play.\n",
      "\n",
      "3. **Exclusive PvP Skins and Items:**  \n",
      "   Unique weapon skins or gear that are available only to players who achieve a certain number of kills within a set timeframe.\n",
      "\n",
      "4. **PvP Challenges:**  \n",
      "   Daily or weekly challenges that reward players for meeting specific kill objectives, such as defeating a certain number of players or achieving kill streaks. Completing these challenges yields rewards like resources, items, or even entry into exclusive PvP events.\n",
      "\n",
      "5. **Leaderboard Recognition:** \n",
      "   Introduce a leaderboard where players can see their kill statistics compared to others. Reward the top players with unique items or in-game currency at the end of each season.\n",
      "\n",
      "### Contextual Insights:\n",
      "This modified offer bundle takes into account the competitive nature of players, especially those engaged in PvP. By incorporating incentives for players to actively pursue kills, we are likely to see an increase in player engagement and overall PvP activity, aiding in improving the average timespent per session for PvP players. Additionally, the bundle can be promoted through in-game events or seasonal competitions to further drive participation.\n"
     ]
    }
   ],
   "source": [
    "print(out['reply'])"
   ]
  },
  {
   "cell_type": "code",
   "execution_count": 4,
   "metadata": {},
   "outputs": [],
   "source": [
    "# display_metric : {'reply' : , 'metric_ids' : [str]}\n",
    "#  "
   ]
  },
  {
   "cell_type": "code",
   "execution_count": 8,
   "metadata": {},
   "outputs": [
    {
     "name": "stdout",
     "output_type": "stream",
     "text": [
      "\u001b[32mStatus: \u001b[0m \u001b[97mInstructions generated\u001b[0m\n",
      "\u001b[32mStatus: \u001b[0m \u001b[97mQuery generated\u001b[0m\n",
      "\u001b[32mStatus: \u001b[0m \u001b[97mQuery executed\u001b[0m\n",
      "\u001b[97mData: \u001b[0m \u001b[33m[(4379,)]\u001b[0m\n",
      "\u001b[32mStatus: \u001b[0m \u001b[97mQA test completed\u001b[0m\n",
      "\u001b[97mQA Status: \u001b[0m \u001b[33mTrue\u001b[0m\n",
      "\u001b[97mRemarks: \u001b[0m \u001b[33mNone\u001b[0m\n",
      "\u001b[32mStatus: \u001b[0m \u001b[97mQA passed\u001b[0m\n"
     ]
    }
   ],
   "source": [
    "outp = ask_db_agent(instructions='Please provide the count of player kills that occurred within the last 24 hours. This data is crucial for understanding player engagement in PvP activities.', chat_id='37')"
   ]
  },
  {
   "cell_type": "code",
   "execution_count": 9,
   "metadata": {},
   "outputs": [
    {
     "name": "stdout",
     "output_type": "stream",
     "text": [
      "The count of player kills that occurred within the last 24 hours is 4,379. This data indicates a significant level of engagement in PvP activities among players during this period.\n"
     ]
    }
   ],
   "source": [
    "print(outp['reply'])"
   ]
  },
  {
   "cell_type": "code",
   "execution_count": 7,
   "metadata": {},
   "outputs": [
    {
     "name": "stdout",
     "output_type": "stream",
     "text": [
      "Please show the chart for Daily Active Users (DAU), which counts the number of unique players participating in the game on a daily basis. This metric is essential for monitoring player engagement and overall game health.\n"
     ]
    }
   ],
   "source": [
    "print(out['agent_instructions']['instructions'])"
   ]
  },
  {
   "cell_type": "code",
   "execution_count": 8,
   "metadata": {},
   "outputs": [
    {
     "data": {
      "text/plain": [
       "{'reply': 'I will now display the Daily Active Users (DAU) metric for you.',\n",
       " 'is_asking_sub_agent': True,\n",
       " 'agent_instructions': {'instructions': 'Please show the chart for Daily Active Users (DAU), which counts the number of unique players participating in the game on a daily basis. This metric is essential for monitoring player engagement and overall game health.',\n",
       "  'agent_name': 'ask_metric_agent_to_display_chart'}}"
      ]
     },
     "execution_count": 8,
     "metadata": {},
     "output_type": "execute_result"
    }
   ],
   "source": [
    "out"
   ]
  },
  {
   "cell_type": "code",
   "execution_count": null,
   "metadata": {},
   "outputs": [],
   "source": [
    "#ideas = ask_idea_agent_to_generate_idea(out['agent_instructions']['instructions'], '1')"
   ]
  },
  {
   "cell_type": "code",
   "execution_count": null,
   "metadata": {},
   "outputs": [],
   "source": [
    "#ideas"
   ]
  },
  {
   "cell_type": "code",
   "execution_count": 1,
   "metadata": {},
   "outputs": [
    {
     "name": "stdout",
     "output_type": "stream",
     "text": [
      "\u001b[33mStatus: \u001b[0m \u001b[97mInitialising nodes\u001b[0m\n",
      "\u001b[33mStatus: \u001b[0m \u001b[97mInitialising ChatOpenAI\u001b[0m\n",
      "\u001b[32mStatus: \u001b[0m \u001b[97mChatOpenAI initialised\u001b[0m\n",
      "\u001b[33mStatus: \u001b[0m \u001b[97mInitialising nodes\u001b[0m\n",
      "\u001b[33mStatus: \u001b[0m \u001b[97mInitialising ChatOpenAI\u001b[0m\n",
      "\u001b[32mStatus: \u001b[0m \u001b[97mChatOpenAI initialised\u001b[0m\n",
      "\u001b[33mStatus: \u001b[0m \u001b[97mInitialising nodes\u001b[0m\n",
      "\u001b[33mStatus: \u001b[0m \u001b[97mInitialising ChatOpenAI\u001b[0m\n",
      "\u001b[32mStatus: \u001b[0m \u001b[97mChatOpenAI initialised\u001b[0m\n",
      "\u001b[33mStatus: \u001b[0m \u001b[97mInitialising nodes\u001b[0m\n",
      "\u001b[33mStatus: \u001b[0m \u001b[97mInitialising ChatOpenAI\u001b[0m\n",
      "\u001b[32mStatus: \u001b[0m \u001b[97mChatOpenAI initialised\u001b[0m\n"
     ]
    }
   ],
   "source": [
    "from src.agents.chat_agent.agent import ask_metric_agent_to_display_chart"
   ]
  },
  {
   "cell_type": "code",
   "execution_count": 2,
   "metadata": {},
   "outputs": [
    {
     "name": "stdout",
     "output_type": "stream",
     "text": [
      "\u001b[32mStatus: \u001b[0m \u001b[97mPlot generated\u001b[0m\n"
     ]
    }
   ],
   "source": [
    "metric_res = ask_metric_agent_to_display_chart(instructions=\"give me how many players who are unique that joined each day\", \n",
    "                                               displayed_metrics=['1', '2', '3', '4', '5', '6', '7'],\n",
    "                                               chat_id='1')"
   ]
  },
  {
   "cell_type": "code",
   "execution_count": null,
   "metadata": {},
   "outputs": [
    {
     "data": {
      "text/plain": [
       "{'reply': 'I will ask the database agent to provide the data on the number of unique players who joined each day.',\n",
       " 'metric_ids': ['1', '2', '3', '4', '5', '6', '7', '9'],\n",
       " 'metric_dfs': [         Day                   Minutes\n",
       "  0 2025-01-08  221.03020134228188143065\n",
       "  1 2025-01-09   16.73263358778625954033\n",
       "  2 2025-01-10   11.70020374898125509438\n",
       "  3 2025-01-11   11.11741370427614631643\n",
       "  4 2025-01-12   15.61443298969072164953\n",
       "  5 2025-01-13   42.63247011952191234940\n",
       "  6 2025-01-14   13.26605805243445692987\n",
       "  7 2025-01-15   10.72024265644955300153\n",
       "  8 2025-01-16    8.80791245791245790909,\n",
       "           Day            Sessions\n",
       "  0 2025-01-08  2.1142857142857143\n",
       "  1 2025-01-09  2.7708333333333333\n",
       "  2 2025-01-10  3.5000000000000000\n",
       "  3 2025-01-11  3.4105263157894737\n",
       "  4 2025-01-12  4.1656441717791411\n",
       "  5 2025-01-13  2.7204301075268817\n",
       "  6 2025-01-14  3.3867924528301887\n",
       "  7 2025-01-15  2.8478260869565217\n",
       "  8 2025-01-16  2.1063829787234043,\n",
       "           Day  Users\n",
       "  0 2025-01-08     70\n",
       "  1 2025-01-09     93\n",
       "  2 2025-01-10    116\n",
       "  3 2025-01-11    190\n",
       "  4 2025-01-12    163\n",
       "  5 2025-01-13     92\n",
       "  6 2025-01-14    106\n",
       "  7 2025-01-15     91\n",
       "  8 2025-01-16     47,\n",
       "           Day   Average Time (minutes)\n",
       "  0 2025-01-08   6.21388888888888888704\n",
       "  1 2025-01-09   7.86713221601489757989\n",
       "  2 2025-01-10  10.55194109772423025435\n",
       "  3 2025-01-11  12.74157894736842105249\n",
       "  4 2025-01-12  14.25588422391857506406\n",
       "  5 2025-01-13  13.77846846846846846955\n",
       "  6 2025-01-14  12.27715803452855245843\n",
       "  7 2025-01-15  11.50347648261758691288\n",
       "  8 2025-01-16  11.42435897435897435897,\n",
       "            Day    Average Sessions\n",
       "  0  2025-01-12  7.4843750000000000\n",
       "  1  2025-01-11  6.6417910447761194\n",
       "  2  2025-01-10  5.4791666666666667\n",
       "  3  2025-01-14  4.6078431372549020\n",
       "  4  2025-01-15  3.7727272727272727\n",
       "  5  2025-01-13  3.5306122448979592\n",
       "  6  2025-01-09  3.1777777777777778\n",
       "  7  2025-01-16  3.1176470588235294\n",
       "  8  2025-01-08  2.6060606060606061,\n",
       "                      value\n",
       "  0  0.24866548042704626335,\n",
       "           Day  Number of Players\n",
       "  0 2025-01-08                 22\n",
       "  1 2025-01-09                 24\n",
       "  2 2025-01-10                 38\n",
       "  3 2025-01-11                 55\n",
       "  4 2025-01-12                 49\n",
       "  5 2025-01-13                 31\n",
       "  6 2025-01-14                 42\n",
       "  7 2025-01-15                 27\n",
       "  8 2025-01-16                 13,\n",
       "          Date  Number of Unique Players Joined (Count)\n",
       "  0 2025-01-08                                       70\n",
       "  1 2025-01-09                                       93\n",
       "  2 2025-01-10                                      116\n",
       "  3 2025-01-11                                      190\n",
       "  4 2025-01-12                                      163\n",
       "  5 2025-01-13                                       92\n",
       "  6 2025-01-14                                      106\n",
       "  7 2025-01-15                                       91\n",
       "  8 2025-01-16                                       47]}"
      ]
     },
     "execution_count": 3,
     "metadata": {},
     "output_type": "execute_result"
    }
   ],
   "source": [
    "metric_res"
   ]
  },
  {
   "cell_type": "code",
   "execution_count": null,
   "metadata": {},
   "outputs": [],
   "source": []
  },
  {
   "cell_type": "markdown",
   "metadata": {},
   "source": [
    "To modify the offer bundle effectively to encourage more player kills, we can focus on enhancing the rewards and features that specifically resonate with competitive players. Here’s a refined version of the offer bundle:\n",
    "\n",
    "### PvP Kill Streak Bundle\n",
    "\n",
    "**One-liner:** \"Unlock powerful rewards for every player you defeat!\"\n",
    "\n",
    "**Detailed Description:**\n",
    "Enhance your PvP experience with the **PvP Kill Streak Bundle**, designed to incentivize players to engage in combat and achieve kill streaks. This bundle will reward players not only for kills but also for their performance in PvP battles, thereby promoting a more aggressive playstyle.\n",
    "\n",
    "#### Bundle Includes:\n",
    "\n",
    "1. **Kill Streak Rewards:**  \n",
    "   Players earn bonuses for consecutive kills, including:\n",
    "\n",
    "   - Extra experience points for skills linked to combat (fighting, archery, etc.).\n",
    "   - Special currency rewarded after each kill that can be accumulated and spent on exclusive items.\n",
    "\n",
    "2. **Temporary Power-Ups:**\n",
    "   Limited-time boosts such as increased damage, health regeneration, or speed enhancements during PvP sessions to encourage aggressive play.\n",
    "\n",
    "3. **Exclusive PvP Skins and Items:**  \n",
    "   Unique weapon skins or gear that are available only to players who achieve a certain number of kills within a set timeframe.\n",
    "\n",
    "4. **PvP Challenges:**  \n",
    "   Daily or weekly challenges that reward players for meeting specific kill objectives, such as defeating a certain number of players or achieving kill streaks. Completing these challenges yields rewards like resources, items, or even entry into exclusive PvP events.\n",
    "\n",
    "5. **Leaderboard Recognition:**\n",
    "   Introduce a leaderboard where players can see their kill statistics compared to others. Reward the top players with unique items or in-game currency at the end of each season.\n",
    "\n",
    "### Contextual Insights:\n",
    "\n",
    "This modified offer bundle takes into account the competitive nature of players, especially those engaged in PvP. By incorporating incentives for players to actively pursue kills, we are likely to see an increase in player engagement and overall PvP activity, aiding in improving the average timespent per session for PvP players. Additionally, the bundle can be promoted through in-game events or seasonal competitions to further drive participation.\n"
   ]
  },
  {
   "cell_type": "markdown",
   "metadata": {},
   "source": []
  }
 ],
 "metadata": {
  "kernelspec": {
   "display_name": ".venv",
   "language": "python",
   "name": "python3"
  },
  "language_info": {
   "codemirror_mode": {
    "name": "ipython",
    "version": 3
   },
   "file_extension": ".py",
   "mimetype": "text/x-python",
   "name": "python",
   "nbconvert_exporter": "python",
   "pygments_lexer": "ipython3",
   "version": "3.12.3"
  }
 },
 "nbformat": 4,
 "nbformat_minor": 2
}
