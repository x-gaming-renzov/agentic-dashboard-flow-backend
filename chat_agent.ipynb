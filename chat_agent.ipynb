{
 "cells": [
  {
   "cell_type": "code",
   "execution_count": 1,
   "metadata": {},
   "outputs": [
    {
     "name": "stdout",
     "output_type": "stream",
     "text": [
      "\u001b[33mStatus: \u001b[0m \u001b[97mInitialising nodes\u001b[0m\n",
      "\u001b[33mStatus: \u001b[0m \u001b[97mInitialising ChatOpenAI\u001b[0m\n",
      "\u001b[32mStatus: \u001b[0m \u001b[97mChatOpenAI initialised\u001b[0m\n",
      "\u001b[33mStatus: \u001b[0m \u001b[97mInitialising nodes\u001b[0m\n",
      "\u001b[33mStatus: \u001b[0m \u001b[97mInitialising ChatOpenAI\u001b[0m\n",
      "\u001b[32mStatus: \u001b[0m \u001b[97mChatOpenAI initialised\u001b[0m\n",
      "\u001b[33mStatus: \u001b[0m \u001b[97mInitialising nodes\u001b[0m\n",
      "\u001b[33mStatus: \u001b[0m \u001b[97mInitialising ChatOpenAI\u001b[0m\n",
      "\u001b[32mStatus: \u001b[0m \u001b[97mChatOpenAI initialised\u001b[0m\n"
     ]
    }
   ],
   "source": [
    "from src.agents.chat_agent.agent import  *"
   ]
  },
  {
   "cell_type": "code",
   "execution_count": 2,
   "metadata": {},
   "outputs": [],
   "source": [
    "#chat_agent('1', \"hello\")"
   ]
  },
  {
   "cell_type": "code",
   "execution_count": 3,
   "metadata": {},
   "outputs": [],
   "source": [
    "out = chat_agent('1', \"generate ideas on how to improve timespend on week days\")"
   ]
  },
  {
   "cell_type": "code",
   "execution_count": 4,
   "metadata": {},
   "outputs": [],
   "source": [
    "# display_metric : {'reply' : , 'metric_ids' : [str]}\n",
    "#  "
   ]
  },
  {
   "cell_type": "code",
   "execution_count": 5,
   "metadata": {},
   "outputs": [],
   "source": [
    "#out = ask_db_agent(instructions='Please fetch the DAU metric, which counts the number of unique players participating in the game on a daily basis. This should include data categorized by dates, and the result needs to show the number of players active each day.', chat_id='1')"
   ]
  },
  {
   "cell_type": "code",
   "execution_count": 6,
   "metadata": {},
   "outputs": [
    {
     "name": "stdout",
     "output_type": "stream",
     "text": [
      "Let's generate some ideas to improve players' timespend on weekdays. These ideas can encourage players to engage more frequently and spend longer sessions during weekdays.\n"
     ]
    }
   ],
   "source": [
    "print(out['reply'])"
   ]
  },
  {
   "cell_type": "code",
   "execution_count": 7,
   "metadata": {},
   "outputs": [
    {
     "name": "stdout",
     "output_type": "stream",
     "text": [
      "Generate creative strategies to increase player engagement and timespend on weekdays, focusing on incentives, events, and activities that can enhance player experience. Ensure the ideas cater to both Casual and Competitive PvP Players.\n"
     ]
    }
   ],
   "source": [
    "print(out['agent_instructions']['instructions'])"
   ]
  },
  {
   "cell_type": "code",
   "execution_count": 8,
   "metadata": {},
   "outputs": [
    {
     "name": "stdout",
     "output_type": "stream",
     "text": [
      "\u001b[32mStatus: \u001b[0m \u001b[97mPlot generated\u001b[0m\n",
      "\u001b[32mStatus: \u001b[0m \u001b[97mPlot generated\u001b[0m\n",
      "\u001b[32mStatus: \u001b[0m\u001b[32mStatus: \u001b[0m \u001b[97mPlot generated\u001b[0m\n",
      " \u001b[97mPlot generated\u001b[0m\n",
      "\u001b[32mStatus: \u001b[0m \u001b[97mPlot generated\u001b[0m\n",
      "\u001b[32mStatus: \u001b[0m \u001b[97mPlot generated\u001b[0m\n",
      "\u001b[32mStatus: \u001b[0m \u001b[97mPlot generated\u001b[0m\n",
      "iVBORw0KGgoAAAANSUhEUgAAAk0AAAHHCAYAAACiOWx7AAAAOnRFWHRTb2Z0d2FyZQBNYXRwbG90bGliIHZlcnNpb24zLjEwLjAs\n",
      "iVBORw0KGgoAAAANSUhEUgAAAkgAAAHHCAYAAABEEKc/AAAAOnRFWHRTb2Z0d2FyZQBNYXRwbG90bGliIHZlcnNpb24zLjEwLjAs\n",
      "iVBORw0KGgoAAAANSUhEUgAAAkQAAAHHCAYAAABeLEexAAAAOnRFWHRTb2Z0d2FyZQBNYXRwbG90bGliIHZlcnNpb24zLjEwLjAs\n",
      "iVBORw0KGgoAAAANSUhEUgAAAkQAAAHHCAYAAABeLEexAAAAOnRFWHRTb2Z0d2FyZQBNYXRwbG90bGliIHZlcnNpb24zLjEwLjAs\n",
      "iVBORw0KGgoAAAANSUhEUgAAAiwAAAGzCAYAAAAMr0ziAAAAOnRFWHRTb2Z0d2FyZQBNYXRwbG90bGliIHZlcnNpb24zLjEwLjAs\n",
      "iVBORw0KGgoAAAANSUhEUgAAAioAAAHHCAYAAACRAnNyAAAAOnRFWHRTb2Z0d2FyZQBNYXRwbG90bGliIHZlcnNpb24zLjEwLjAs\n",
      "iVBORw0KGgoAAAANSUhEUgAAAk0AAAHHCAYAAACiOWx7AAAAOnRFWHRTb2Z0d2FyZQBNYXRwbG90bGliIHZlcnNpb24zLjEwLjAs\n"
     ]
    }
   ],
   "source": [
    "ideas = ask_idea_agent_to_generate_idea(out['agent_instructions']['instructions'], '1')"
   ]
  },
  {
   "cell_type": "code",
   "execution_count": 9,
   "metadata": {},
   "outputs": [
    {
     "data": {
      "text/plain": [
       "{'idea_ids': ['7', '8', '9']}"
      ]
     },
     "execution_count": 9,
     "metadata": {},
     "output_type": "execute_result"
    }
   ],
   "source": [
    "ideas"
   ]
  },
  {
   "cell_type": "code",
   "execution_count": null,
   "metadata": {},
   "outputs": [],
   "source": []
  }
 ],
 "metadata": {
  "kernelspec": {
   "display_name": ".venv",
   "language": "python",
   "name": "python3"
  },
  "language_info": {
   "codemirror_mode": {
    "name": "ipython",
    "version": 3
   },
   "file_extension": ".py",
   "mimetype": "text/x-python",
   "name": "python",
   "nbconvert_exporter": "python",
   "pygments_lexer": "ipython3",
   "version": "3.12.3"
  }
 },
 "nbformat": 4,
 "nbformat_minor": 2
}
