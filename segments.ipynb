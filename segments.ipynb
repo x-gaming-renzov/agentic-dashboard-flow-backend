{
 "cells": [
  {
   "cell_type": "code",
   "execution_count": 1,
   "metadata": {},
   "outputs": [
    {
     "name": "stdout",
     "output_type": "stream",
     "text": [
      "\u001b[33mStatus: \u001b[0m \u001b[97mInitialising nodes\u001b[0m\n",
      "\u001b[33mStatus: \u001b[0m \u001b[97mInitialising ChatOpenAI\u001b[0m\n",
      "\u001b[32mStatus: \u001b[0m \u001b[97mChatOpenAI initialised\u001b[0m\n",
      "\u001b[33mStatus: \u001b[0m \u001b[97mInitialising nodes\u001b[0m\n",
      "\u001b[33mStatus: \u001b[0m \u001b[97mInitialising ChatOpenAI\u001b[0m\n",
      "\u001b[32mStatus: \u001b[0m \u001b[97mChatOpenAI initialised\u001b[0m\n"
     ]
    }
   ],
   "source": [
    "from src.agents.segment_agent.agent import generate_segments, register_segments"
   ]
  },
  {
   "cell_type": "code",
   "execution_count": 2,
   "metadata": {},
   "outputs": [
    {
     "name": "stdout",
     "output_type": "stream",
     "text": [
      "\u001b[32mStatus: \u001b[0m \u001b[97mPlot generated\u001b[0m\n",
      "\u001b[32mStatus: \u001b[0m \u001b[97mPlot generated\u001b[0m\n",
      "\u001b[32mStatus: \u001b[0m \u001b[97mPlot generated\u001b[0m\n",
      "\u001b[32mStatus: \u001b[0m \u001b[97mPlot generated\u001b[0m\n",
      "\u001b[32mStatus: \u001b[0m \u001b[97mPlot generated\u001b[0m\n",
      "\u001b[32mStatus: \u001b[0m \u001b[97mPlot generated\u001b[0m\n"
     ]
    }
   ],
   "source": [
    "segments = generate_segments(metrics=['1', '2', '3', '4', '5', '6', '7'], human_remark=\"This is data of PvP players segment.\", num_segments=2)"
   ]
  },
  {
   "cell_type": "code",
   "execution_count": 3,
   "metadata": {},
   "outputs": [
    {
     "data": {
      "text/plain": [
       "[SegmentInfo(name='Casual PvP Players', description='These players engage in PvP intermittently, exhibiting lower session durations and fewer daily sessions. Their playstyle indicates a focus on casual gameplay without a significant commitment to competitive PvP events.', insights='Casual PvP players tend to have shorter average session times (around 6-8 minutes) and participate in fewer sessions per day, averaging about 1-2 sessions. Their engagement rates in PvP activities are lower compared to more competitive players.', criteria='Players with average session durations below 10 minutes and average sessions per day less than 2.', remarks='This segment might benefit from in-game incentives to increase their session duration and participation rates.'),\n",
       " SegmentInfo(name='Competitive PvP Players', description=\"This segment is characterized by players who demonstrate a high level of engagement in PvP activities, with more frequent and longer sessions. They are likely to be more competitive and involved in the game's end events.\", insights='Competitive PvP players have longer average session times (around 10-15 minutes) and complete more sessions per day, averaging 3-5 sessions. Their engagement in PvP-related events is higher, which suggests they are more dedicated to improving their skills and participating in competitive gameplay.', criteria='Players with average session durations above 10 minutes and average sessions per day greater than 3.', remarks='Consider offering this group exclusive rewards or challenges to further boost their engagement and enhance competitive aspects in PvP.')]"
      ]
     },
     "execution_count": 3,
     "metadata": {},
     "output_type": "execute_result"
    }
   ],
   "source": [
    "segments"
   ]
  },
  {
   "cell_type": "code",
   "execution_count": 4,
   "metadata": {},
   "outputs": [],
   "source": [
    "register_segments(segments, metrics=['1', '2', '3', '4', '5', '6', '7'])"
   ]
  },
  {
   "cell_type": "code",
   "execution_count": null,
   "metadata": {},
   "outputs": [],
   "source": []
  }
 ],
 "metadata": {
  "kernelspec": {
   "display_name": ".venv",
   "language": "python",
   "name": "python3"
  },
  "language_info": {
   "codemirror_mode": {
    "name": "ipython",
    "version": 3
   },
   "file_extension": ".py",
   "mimetype": "text/x-python",
   "name": "python",
   "nbconvert_exporter": "python",
   "pygments_lexer": "ipython3",
   "version": "3.12.3"
  }
 },
 "nbformat": 4,
 "nbformat_minor": 2
}
