{
 "cells": [
  {
   "cell_type": "code",
   "execution_count": 1,
   "metadata": {},
   "outputs": [],
   "source": [
    "import numpy as np"
   ]
  },
  {
   "cell_type": "code",
   "execution_count": 2,
   "metadata": {},
   "outputs": [],
   "source": [
    "from src.agents.item_agent.utils.commands import *"
   ]
  },
  {
   "cell_type": "code",
   "execution_count": 3,
   "metadata": {},
   "outputs": [],
   "source": [
    "items_list = [{'item': {'name': \"Viper's Fang\",\n",
    "   'description': 'A sword crafted from the fangs of a mystical serpent, sharp and deadly.',\n",
    "   'amount': 1,\n",
    "   'properties': 'A diamond sword with Sharpness II and Poisoned effect for 5 seconds.',\n",
    "   'category': 'tools',\n",
    "   'top_k': [{'description': 'A highly durable and powerful sword made from diamond.',\n",
    "     'detailed_description': 'Tool Type: Sword | Name: Diamond Sword | Description: A highly durable and powerful sword made from diamond. | Category :  tools',\n",
    "     '_id': '106',\n",
    "     'name': 'Diamond Sword',\n",
    "     'score': np.float64(0.6226182167761831),\n",
    "     'category': 'tools'},\n",
    "    {'description': 'Increases melee damage',\n",
    "     'detailed_description': 'Name: Sharpness | Description: Increases melee damage | Category :  tools_enchantment',\n",
    "     '_id': '136',\n",
    "     'name': 'Sharpness',\n",
    "     'score': np.float64(0.5624238182536042),\n",
    "     'category': 'tools_enchantment'}]}},\n",
    " {'item': {'name': \"Phantom's Embrace\",\n",
    "   'description': 'A bow that whispers secrets of the night, striking fear in foes.',\n",
    "   'amount': 1,\n",
    "   'properties': 'A bow with Power II and Infinity enchantments, ideal for relentless assaults.',\n",
    "   'category': 'bow',\n",
    "   'top_k': [{'description': 'Chance to launch an Ender Pearl instead of an arrow.',\n",
    "     'detailed_description': 'Name: Ender Bow | Description: Chance to launch an Ender Pearl instead of an arrow. | Applies To: Bows, Crossbows | Conflicts With: Ghast, Bomber, Flare | Category :  bow_enchantment',\n",
    "     '_id': '69',\n",
    "     'name': 'Ender Bow',\n",
    "     'score': np.float64(0.5080380561788277),\n",
    "     'category': 'bow_enchantment'}]}},\n",
    " {'item': {'name': \"Berserker's Brew\",\n",
    "   'description': 'A potent potion that heightens rage and strength for battle.',\n",
    "   'amount': 3,\n",
    "   'properties': 'Strength II for 3 minutes, boosting damage for fierce encounters.',\n",
    "   'category': 'potions',\n",
    "   'top_k': [{'description': 'A potion which player can drink to get a variety of effects',\n",
    "     'detailed_description': 'A potion which player can drink to get a variety of effects',\n",
    "     '_id': '152',\n",
    "     'name': 'potion',\n",
    "     'score': np.float64(0.18560207417708294),\n",
    "     'category': 'potions'},\n",
    "    {'description': 'Increases melee damage',\n",
    "     'detailed_description': 'Category: Potion | Name: Potion of Strength | Description: Increases melee damage | Levels (Vanilla): I, II | Levels (Custom): I - V | Types: Regular, Splash, Lingering | Category :  potions',\n",
    "     '_id': '15',\n",
    "     'name': 'Potion of Strength',\n",
    "     'score': np.float64(0.49068831970878485),\n",
    "     'category': 'potion_effect'}]}},\n",
    " {'item': {'name': \"Guardian's Ward\",\n",
    "   'description': 'A shield forged from the finest obsidian, resilient against foes.',\n",
    "   'amount': 1,\n",
    "   'properties': 'Iron chestplate with Protection III and Unbreaking I, enhancing defense significantly.',\n",
    "   'category': 'armor',\n",
    "   'top_k': [{'description': 'A chestplate made from diamond, offering high protection and durability.',\n",
    "     'detailed_description': 'Armor Type: Chestplate | Name: Diamond Chestplate | Description: A chestplate made from diamond, offering high protection and durability. | Category :  armour',\n",
    "     '_id': '162',\n",
    "     'name': 'Diamond Chestplate',\n",
    "     'score': np.float64(0.6276520374165351),\n",
    "     'category': 'armor'},\n",
    "    {'description': 'Grants Damage Resistance effect on receiving damage.',\n",
    "     'detailed_description': 'Name: Hardened | Description: Grants Damage Resistance effect on receiving damage. | Applies To: Chestplate | Conflicts With: - | Category :  armour_enchantment',\n",
    "     '_id': '92',\n",
    "     'name': 'Hardened',\n",
    "     'score': np.float64(0.5588395108328394),\n",
    "     'category': 'armor_enchantment'}]}}]"
   ]
  },
  {
   "cell_type": "code",
   "execution_count": 4,
   "metadata": {},
   "outputs": [
    {
     "data": {
      "text/plain": [
       "{'item': {'name': \"Berserker's Brew\",\n",
       "  'description': 'A potent potion that heightens rage and strength for battle.',\n",
       "  'amount': 3,\n",
       "  'properties': 'Strength II for 3 minutes, boosting damage for fierce encounters.',\n",
       "  'category': 'potions',\n",
       "  'top_k': [{'description': 'A potion which player can drink to get a variety of effects',\n",
       "    'detailed_description': 'A potion which player can drink to get a variety of effects',\n",
       "    '_id': '152',\n",
       "    'name': 'potion',\n",
       "    'score': np.float64(0.18560207417708294),\n",
       "    'category': 'potions'},\n",
       "   {'description': 'Increases melee damage',\n",
       "    'detailed_description': 'Category: Potion | Name: Potion of Strength | Description: Increases melee damage | Levels (Vanilla): I, II | Levels (Custom): I - V | Types: Regular, Splash, Lingering | Category :  potions',\n",
       "    '_id': '15',\n",
       "    'name': 'Potion of Strength',\n",
       "    'score': np.float64(0.49068831970878485),\n",
       "    'category': 'potion_effect'}]}}"
      ]
     },
     "execution_count": 4,
     "metadata": {},
     "output_type": "execute_result"
    }
   ],
   "source": [
    "items_list[2]"
   ]
  },
  {
   "cell_type": "code",
   "execution_count": 5,
   "metadata": {},
   "outputs": [],
   "source": [
    "command = generate_potions_command(items_list[2]['item'])"
   ]
  },
  {
   "cell_type": "code",
   "execution_count": 6,
   "metadata": {},
   "outputs": [
    {
     "data": {
      "text/plain": [
       "'minecraft:give {player_name} potion[potion_contents={custom_effects:[{id:potion,duration:600}]},custom_name=\\'[\"\",{\"text\":\"Berserkers Brew\",\"italic\":false}]\\',lore=[\\'[\"\",{\"text\":\"A potent potion that heightens rage and strength for battle.\",\"italic\":false}]\\']] 3'"
      ]
     },
     "execution_count": 6,
     "metadata": {},
     "output_type": "execute_result"
    }
   ],
   "source": [
    "command"
   ]
  },
  {
   "cell_type": "code",
   "execution_count": 7,
   "metadata": {},
   "outputs": [
    {
     "data": {
      "text/plain": [
       "{'item': {'name': \"Guardian's Ward\",\n",
       "  'description': 'A shield forged from the finest obsidian, resilient against foes.',\n",
       "  'amount': 1,\n",
       "  'properties': 'Iron chestplate with Protection III and Unbreaking I, enhancing defense significantly.',\n",
       "  'category': 'armor',\n",
       "  'top_k': [{'description': 'A chestplate made from diamond, offering high protection and durability.',\n",
       "    'detailed_description': 'Armor Type: Chestplate | Name: Diamond Chestplate | Description: A chestplate made from diamond, offering high protection and durability. | Category :  armour',\n",
       "    '_id': '162',\n",
       "    'name': 'Diamond Chestplate',\n",
       "    'score': np.float64(0.6276520374165351),\n",
       "    'category': 'armor'},\n",
       "   {'description': 'Grants Damage Resistance effect on receiving damage.',\n",
       "    'detailed_description': 'Name: Hardened | Description: Grants Damage Resistance effect on receiving damage. | Applies To: Chestplate | Conflicts With: - | Category :  armour_enchantment',\n",
       "    '_id': '92',\n",
       "    'name': 'Hardened',\n",
       "    'score': np.float64(0.5588395108328394),\n",
       "    'category': 'armor_enchantment'}]}}"
      ]
     },
     "execution_count": 7,
     "metadata": {},
     "output_type": "execute_result"
    }
   ],
   "source": [
    "items_list[3]"
   ]
  },
  {
   "cell_type": "code",
   "execution_count": 8,
   "metadata": {},
   "outputs": [],
   "source": [
    "armor_command = generate_armor_command(items_list[3]['item'])"
   ]
  },
  {
   "cell_type": "code",
   "execution_count": 9,
   "metadata": {},
   "outputs": [
    {
     "data": {
      "text/plain": [
       "'minecraft:give {player_name} diamond_chestplate[custom_name=\\'[\"\",{\"text\":\"Guardians Ward\",\"italic\":false}]\\',lore=[\\'[\"\",{\"text\":\"A shield forged from the finest obsidian, resilient against foes.\",\"italic\":false}]\\'],enchantments={levels:{hardened:2}}] 1'"
      ]
     },
     "execution_count": 9,
     "metadata": {},
     "output_type": "execute_result"
    }
   ],
   "source": [
    "armor_command"
   ]
  },
  {
   "cell_type": "code",
   "execution_count": 10,
   "metadata": {},
   "outputs": [],
   "source": [
    "bow_command = generate_bow_command(items_list[1]['item'])"
   ]
  },
  {
   "cell_type": "code",
   "execution_count": 11,
   "metadata": {},
   "outputs": [
    {
     "data": {
      "text/plain": [
       "'minecraft:give {player_name} bow[custom_name=\\'[\"\",{\"text\":\"Phantoms Embrace\",\"italic\":false}]\\',lore=[\\'[\"\",{\"text\":\"A bow that whispers secrets of the night, striking fear in foes.\",\"italic\":false}]\\'],enchantments={levels:{ender_bow:3}}] 1'"
      ]
     },
     "execution_count": 11,
     "metadata": {},
     "output_type": "execute_result"
    }
   ],
   "source": [
    "bow_command"
   ]
  },
  {
   "cell_type": "code",
   "execution_count": 12,
   "metadata": {},
   "outputs": [],
   "source": [
    "tool_command = generate_tool_command(items_list[0]['item'])"
   ]
  },
  {
   "cell_type": "code",
   "execution_count": 13,
   "metadata": {},
   "outputs": [
    {
     "data": {
      "text/plain": [
       "'minecraft:give {player_name} diamond_sword[custom_name=\\'{\"text\":\"Vipers Fang\"}\\',lore=[\\'{\"text\":\"A sword crafted from the fangs of a mystical serpent, sharp and deadly.\"}\\'],enchantments={levels:{\\'sharpness\\':3}}] 1'"
      ]
     },
     "execution_count": 13,
     "metadata": {},
     "output_type": "execute_result"
    }
   ],
   "source": [
    "tool_command"
   ]
  },
  {
   "cell_type": "code",
   "execution_count": 14,
   "metadata": {},
   "outputs": [],
   "source": [
    "with open(\"file.txt\",\"w\") as f:\n",
    "    f.write(command)\n",
    "    f.write(\"\\n\")\n",
    "    f.write(armor_command)\n",
    "    f.write(\"\\n\")\n",
    "    f.write(bow_command)\n",
    "    f.write(\"\\n\")\n",
    "    f.write(tool_command)"
   ]
  },
  {
   "cell_type": "code",
   "execution_count": null,
   "metadata": {},
   "outputs": [],
   "source": []
  }
 ],
 "metadata": {
  "kernelspec": {
   "display_name": ".venv",
   "language": "python",
   "name": "python3"
  },
  "language_info": {
   "codemirror_mode": {
    "name": "ipython",
    "version": 3
   },
   "file_extension": ".py",
   "mimetype": "text/x-python",
   "name": "python",
   "nbconvert_exporter": "python",
   "pygments_lexer": "ipython3",
   "version": "3.12.8"
  }
 },
 "nbformat": 4,
 "nbformat_minor": 2
}
